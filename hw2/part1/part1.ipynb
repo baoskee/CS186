{
 "cells": [
  {
   "cell_type": "code",
   "execution_count": 1,
   "metadata": {
    "collapsed": false
   },
   "outputs": [],
   "source": [
    "# alwasy get fresh copies\n",
    "! cp ~cs186/sp16/hw2/part1/part1.db .\n",
    "! chmod 700 part1.db\n",
    "! cp ~cs186/sp16/hw2/part1/part1test.db .\n",
    "! chmod 700 part1test.db"
   ]
  },
  {
   "cell_type": "code",
   "execution_count": 2,
   "metadata": {
    "collapsed": false
   },
   "outputs": [],
   "source": [
    "import subprocess, sqlite3, csv, os\n",
    "\n",
    "# change this to 'part1.db' if you want to test for what data\n",
    "#   our grading runs on\n",
    "currentDB = \"part1test.db\"\n",
    "\n",
    "# for autograder!\n",
    "if ('CS186GRADER' in os.environ):\n",
    "    currentDB = \"part1.db\"    \n",
    "\n",
    "if not (os.path.isfile(currentDB)):\n",
    "    raise IOError(\"DB File \" + currentDB + \" is not here!\")\n",
    "db = sqlite3.connect(currentDB)\n",
    "db.text_factory = str"
   ]
  },
  {
   "cell_type": "code",
   "execution_count": 3,
   "metadata": {
    "collapsed": false
   },
   "outputs": [],
   "source": [
    "# Q1\n",
    "# Question: for all companies whose status column contains 'acquired', show\n",
    "# the associated acquisition price_amount (if there is no acquisition record, price_amount\n",
    "# should be returned as NULL)\n",
    "# Output: company_name, price_amount\n",
    "\n",
    "def q1():\n",
    "    db.executescript(\"\"\"\n",
    "        DROP VIEW IF EXISTS q1;\n",
    "    \n",
    "        CREATE VIEW q1 AS\n",
    "        \n",
    "        \n",
    "        SELECT C.company_name, A.price_amount\n",
    "        FROM companies as C LEFT OUTER JOIN acquisitions as A\n",
    "        ON C.company_name = A.company_name\n",
    "        WHERE C.status = 'acquired'\n",
    "        \n",
    "        ;\n",
    "    \"\"\")\n",
    "    return\n",
    "q1()"
   ]
  },
  {
   "cell_type": "code",
   "execution_count": 13,
   "metadata": {
    "collapsed": false
   },
   "outputs": [
    {
     "name": "stderr",
     "output_type": "stream",
     "text": [
      "ERROR: An unexpected error occurred while tokenizing input\n",
      "The following traceback may be corrupted or invalid\n",
      "The error message is: ('EOF in multi-line string', (1, 4))\n",
      "\n"
     ]
    },
    {
     "ename": "OperationalError",
     "evalue": "near \";\": syntax error",
     "output_type": "error",
     "traceback": [
      "\u001b[1;31m---------------------------------------------------------------------------\u001b[0m",
      "\u001b[1;31mOperationalError\u001b[0m                          Traceback (most recent call last)",
      "\u001b[1;32m<ipython-input-13-61028ed79ddb>\u001b[0m in \u001b[0;36m<module>\u001b[1;34m()\u001b[0m\n\u001b[0;32m     15\u001b[0m     \u001b[1;32mreturn\u001b[0m\u001b[1;33m\u001b[0m\u001b[0m\n\u001b[0;32m     16\u001b[0m \u001b[1;33m\u001b[0m\u001b[0m\n\u001b[1;32m---> 17\u001b[1;33m \u001b[0mq2\u001b[0m\u001b[1;33m(\u001b[0m\u001b[1;33m)\u001b[0m \u001b[1;31m# called for your convenience\u001b[0m\u001b[1;33m\u001b[0m\u001b[0m\n\u001b[0m",
      "\u001b[1;32m<ipython-input-13-61028ed79ddb>\u001b[0m in \u001b[0;36mq2\u001b[1;34m()\u001b[0m\n\u001b[0;32m     12\u001b[0m         \u001b[1;33m-\u001b[0m\u001b[1;33m-\u001b[0m \u001b[0mTODO\u001b[0m\u001b[1;33m\u001b[0m\u001b[0m\n\u001b[0;32m     13\u001b[0m         \u001b[1;33m;\u001b[0m\u001b[1;33m\u001b[0m\u001b[0m\n\u001b[1;32m---> 14\u001b[1;33m     \"\"\")\n\u001b[0m\u001b[0;32m     15\u001b[0m     \u001b[1;32mreturn\u001b[0m\u001b[1;33m\u001b[0m\u001b[0m\n\u001b[0;32m     16\u001b[0m \u001b[1;33m\u001b[0m\u001b[0m\n",
      "\u001b[1;31mOperationalError\u001b[0m: near \";\": syntax error"
     ]
    }
   ],
   "source": [
    "# Q2\n",
    "# Question: How many startups, according this data, were founded (founded_at column) between \n",
    "# 2012 and 2014, inclusive (on or after 2012-01-01, and before or on 2014-12-31)?\n",
    "# Output: a number (column name doesn't matter)\n",
    "# Hint: time comparison will look like <= '1990-01-12'\n",
    "\n",
    "def q2():\n",
    "    db.executescript(\"\"\"\n",
    "        DROP VIEW IF EXISTS q2;\n",
    "\n",
    "        CREATE VIEW q2 AS\n",
    "        -- TODO\n",
    "        ;\n",
    "    \"\"\")\n",
    "    return\n",
    "\n",
    "q2() # called for your convenience"
   ]
  },
  {
   "cell_type": "code",
   "execution_count": null,
   "metadata": {
    "collapsed": true
   },
   "outputs": [],
   "source": [
    "# Q3\n",
    "# Question: What is/are the state(s) that has/have the largest number(s) of startups  in the  \n",
    "#    \"Security\" market (i.e. market column contains the word \"Security\")? (Plural due to ties)\n",
    "# Output: the state(s) and the corresponding number(s), column named \"state\" and \"total\" respectively.\n",
    "#         Note that the test script relies on the naming of output columns.\n",
    "\n",
    "# Notes:\n",
    "# - If the output is tied, then display all (i.e. if both CA and NY have, say 1000 startups, \n",
    "#   then display both states)\n",
    "# - You might want to look into the keyword \"LIKE\"\n",
    "# - The state must be valid (i.e. not \"\")\n",
    "\n",
    "def q3():\n",
    "    db.executescript(\"\"\"\n",
    "        DROP VIEW IF EXISTS q3;\n",
    "        \n",
    "        CREATE VIEW q3 AS        \n",
    "        -- TODO\n",
    "        ;\n",
    "    \"\"\")\n",
    "    return\n",
    "\n",
    "q3()"
   ]
  },
  {
   "cell_type": "code",
   "execution_count": null,
   "metadata": {
    "collapsed": true
   },
   "outputs": [],
   "source": [
    "# Q4\n",
    "# Question: which cities have a larger number of acquirers than startups?\n",
    "\n",
    "# Note \n",
    "# - a startup could be counted as an acquirer, \n",
    "#   but it should only be counted at most once in each category\n",
    "#   and the data is not very clean (i.e. duplicates in company_name entry)\n",
    "\n",
    "def q4():\n",
    "    db.executescript(\"\"\"\n",
    "    \n",
    "        DROP VIEW IF EXISTS q4;\n",
    "        CREATE VIEW q4 AS\n",
    "        --TODO\n",
    "        ;\n",
    "    \"\"\")\n",
    "    return\n",
    "q4()"
   ]
  },
  {
   "cell_type": "code",
   "execution_count": 4,
   "metadata": {
    "collapsed": false
   },
   "outputs": [
    {
     "name": "stdout",
     "output_type": "stream",
     "text": [
      "PASS q1\r\n",
      "Error: no such table: q2\r\n",
      "ERROR q2! See your_output/q2.csv\r\n",
      "Error: no such table: q3\r\n",
      "ERROR q3! See your_output/q3.csv\r\n",
      "Error: no such table: q4\r\n",
      "ERROR q4! See your_output/q4.csv\r\n"
     ]
    }
   ],
   "source": [
    "q1()\n",
    "#q2()\n",
    "#q3()\n",
    "#q4()\n",
    "! ./test.sh"
   ]
  },
  {
   "cell_type": "code",
   "execution_count": null,
   "metadata": {
    "collapsed": true
   },
   "outputs": [],
   "source": []
  }
 ],
 "metadata": {
  "kernelspec": {
   "display_name": "Python 2",
   "language": "python",
   "name": "python2"
  },
  "language_info": {
   "codemirror_mode": {
    "name": "ipython",
    "version": 2
   },
   "file_extension": ".py",
   "mimetype": "text/x-python",
   "name": "python",
   "nbconvert_exporter": "python",
   "pygments_lexer": "ipython2",
   "version": "2.7.10"
  }
 },
 "nbformat": 4,
 "nbformat_minor": 0
}
