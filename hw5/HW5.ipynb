{
 "cells": [
  {
   "cell_type": "markdown",
   "metadata": {},
   "source": [
    "# Setup"
   ]
  },
  {
   "cell_type": "markdown",
   "metadata": {},
   "source": [
    "Let's import and initialize Spark, along with all the other libraries we're using (this might take a while)."
   ]
  },
  {
   "cell_type": "code",
   "execution_count": 201,
   "metadata": {
    "collapsed": false
   },
   "outputs": [
    {
     "name": "stdout",
     "output_type": "stream",
     "text": [
      "Populating the interactive namespace from numpy and matplotlib\n",
      "Populating the interactive namespace from numpy and matplotlib\n"
     ]
    },
    {
     "name": "stderr",
     "output_type": "stream",
     "text": [
      "WARNING: pylab import has clobbered these variables: ['sample']\n",
      "`%matplotlib` prevents importing * from pylab and numpy\n"
     ]
    }
   ],
   "source": [
    "# Uncomment these if do this homework locally\n",
    "# Do not run this if you are on hive\n",
    "# from local_install import setup_environment\n",
    "# setup_environment()\n",
    "\n",
    "import folium\n",
    "import pyspark\n",
    "from pyspark.sql.types import *\n",
    "import matplotlib.pyplot as plt\n",
    "import numpy as np\n",
    "import os\n",
    "%pylab inline\n",
    "%pylab notebook"
   ]
  },
  {
   "cell_type": "code",
   "execution_count": 202,
   "metadata": {
    "collapsed": false
   },
   "outputs": [
    {
     "ename": "ValueError",
     "evalue": "Cannot run multiple SparkContexts at once; existing SparkContext(app=pyspark-shell, master=local[4]) created by __init__ at <ipython-input-4-de9616d4bbc8>:1 ",
     "output_type": "error",
     "traceback": [
      "\u001b[1;31m---------------------------------------------------------------------------\u001b[0m",
      "\u001b[1;31mValueError\u001b[0m                                Traceback (most recent call last)",
      "\u001b[1;32m<ipython-input-202-de9616d4bbc8>\u001b[0m in \u001b[0;36m<module>\u001b[1;34m()\u001b[0m\n\u001b[1;32m----> 1\u001b[1;33m \u001b[0msc\u001b[0m \u001b[1;33m=\u001b[0m \u001b[0mpyspark\u001b[0m\u001b[1;33m.\u001b[0m\u001b[0mSparkContext\u001b[0m\u001b[1;33m(\u001b[0m\u001b[1;33m)\u001b[0m\u001b[1;33m\u001b[0m\u001b[0m\n\u001b[0m\u001b[0;32m      2\u001b[0m \u001b[0msql\u001b[0m \u001b[1;33m=\u001b[0m \u001b[0mpyspark\u001b[0m\u001b[1;33m.\u001b[0m\u001b[0msql\u001b[0m\u001b[1;33m.\u001b[0m\u001b[0mSQLContext\u001b[0m\u001b[1;33m(\u001b[0m\u001b[0msc\u001b[0m\u001b[1;33m)\u001b[0m\u001b[1;33m\u001b[0m\u001b[0m\n",
      "\u001b[1;32m/home/ff/cs186/sp16/cs186-spark/python/lib/pyspark.zip/pyspark/context.py\u001b[0m in \u001b[0;36m__init__\u001b[1;34m(self, master, appName, sparkHome, pyFiles, environment, batchSize, serializer, conf, gateway, jsc, profiler_cls)\u001b[0m\n\u001b[0;32m    110\u001b[0m         \"\"\"\n\u001b[0;32m    111\u001b[0m         \u001b[0mself\u001b[0m\u001b[1;33m.\u001b[0m\u001b[0m_callsite\u001b[0m \u001b[1;33m=\u001b[0m \u001b[0mfirst_spark_call\u001b[0m\u001b[1;33m(\u001b[0m\u001b[1;33m)\u001b[0m \u001b[1;32mor\u001b[0m \u001b[0mCallSite\u001b[0m\u001b[1;33m(\u001b[0m\u001b[0mNone\u001b[0m\u001b[1;33m,\u001b[0m \u001b[0mNone\u001b[0m\u001b[1;33m,\u001b[0m \u001b[0mNone\u001b[0m\u001b[1;33m)\u001b[0m\u001b[1;33m\u001b[0m\u001b[0m\n\u001b[1;32m--> 112\u001b[1;33m         \u001b[0mSparkContext\u001b[0m\u001b[1;33m.\u001b[0m\u001b[0m_ensure_initialized\u001b[0m\u001b[1;33m(\u001b[0m\u001b[0mself\u001b[0m\u001b[1;33m,\u001b[0m \u001b[0mgateway\u001b[0m\u001b[1;33m=\u001b[0m\u001b[0mgateway\u001b[0m\u001b[1;33m)\u001b[0m\u001b[1;33m\u001b[0m\u001b[0m\n\u001b[0m\u001b[0;32m    113\u001b[0m         \u001b[1;32mtry\u001b[0m\u001b[1;33m:\u001b[0m\u001b[1;33m\u001b[0m\u001b[0m\n\u001b[0;32m    114\u001b[0m             self._do_init(master, appName, sparkHome, pyFiles, environment, batchSize, serializer,\n",
      "\u001b[1;32m/home/ff/cs186/sp16/cs186-spark/python/lib/pyspark.zip/pyspark/context.py\u001b[0m in \u001b[0;36m_ensure_initialized\u001b[1;34m(cls, instance, gateway)\u001b[0m\n\u001b[0;32m    259\u001b[0m                         \u001b[1;34m\" created by %s at %s:%s \"\u001b[0m\u001b[1;33m\u001b[0m\u001b[0m\n\u001b[0;32m    260\u001b[0m                         % (currentAppName, currentMaster,\n\u001b[1;32m--> 261\u001b[1;33m                             callsite.function, callsite.file, callsite.linenum))\n\u001b[0m\u001b[0;32m    262\u001b[0m                 \u001b[1;32melse\u001b[0m\u001b[1;33m:\u001b[0m\u001b[1;33m\u001b[0m\u001b[0m\n\u001b[0;32m    263\u001b[0m                     \u001b[0mSparkContext\u001b[0m\u001b[1;33m.\u001b[0m\u001b[0m_active_spark_context\u001b[0m \u001b[1;33m=\u001b[0m \u001b[0minstance\u001b[0m\u001b[1;33m\u001b[0m\u001b[0m\n",
      "\u001b[1;31mValueError\u001b[0m: Cannot run multiple SparkContexts at once; existing SparkContext(app=pyspark-shell, master=local[4]) created by __init__ at <ipython-input-4-de9616d4bbc8>:1 "
     ]
    }
   ],
   "source": [
    "sc = pyspark.SparkContext()\n",
    "sql = pyspark.sql.SQLContext(sc)"
   ]
  },
  {
   "cell_type": "markdown",
   "metadata": {},
   "source": [
    "# 1. DataFrames"
   ]
  },
  {
   "cell_type": "markdown",
   "metadata": {},
   "source": [
    "## 1a. File Format Wrangling"
   ]
  },
  {
   "cell_type": "markdown",
   "metadata": {},
   "source": [
    "Implement the loading of data files into DataFrame objects."
   ]
  },
  {
   "cell_type": "markdown",
   "metadata": {},
   "source": [
    "### Begin Student Code Here"
   ]
  },
  {
   "cell_type": "code",
   "execution_count": null,
   "metadata": {
    "collapsed": true
   },
   "outputs": [],
   "source": [
    "root_path = \"/home/ff/cs186/sp16/fec_2016_3_25\"\n",
    "\n",
    "# file_struct objects\n",
    "com_file = {'header': \"cm_header_file.csv\", 'data': \"cm.txt\" }\n",
    "can_file = {'header': \"cn_header_file.csv\", 'data': \"cn.txt\" }\n",
    "com_can_link_file = {'header': \"ccl_header_file.csv\", 'data': \"ccl.txt\" }\n",
    "indv_file = {'header': \"indiv_header_file.csv\", 'data': \"itcont.txt\" }\n",
    "pas_file = {'header': \"pas2_header_file.csv\", 'data': \"itpas2.txt\" }\n",
    "com_links_file = {'header': \"oth_header_file.csv\", 'data': \"itoth.txt\" }\n",
    "\n",
    "def load_header(filename):\n",
    "    \"\"\"\n",
    "    Given a header .csv file, return a list containing the names of all columns in the table.\n",
    "    \n",
    "    Input:\n",
    "    filename: a string specifying the header .csv file to load\n",
    "    \n",
    "    Output:\n",
    "    A list containing column names of the table\n",
    "    \"\"\"\n",
    "    with open(filename, \"r\") as f:\n",
    "        return [r.replace('\\r\\n','') for r in f.readline().split(\",\")]\n",
    "    \n",
    "def load_dataframe(file_struct):\n",
    "    \"\"\"\n",
    "    Given a dictionary representing the locations of FEC raw files corresponding to a table,\n",
    "    load the tables into a Spark DataFrame.\n",
    "    \n",
    "    Input:\n",
    "    file_struct: a dictionary containing the keys 'header' and 'data', where\n",
    "     'header' contains the name of the `.csv` file specifying the table header file, and\n",
    "     'data' contains the name of the `.txt` file specifying the table data file\n",
    "     \n",
    "    Output:\n",
    "    A DataFrame which contains the loaded data.\n",
    "    \"\"\"\n",
    "    df = None\n",
    "    \n",
    "    # TODO\n",
    "    # Okay, following the SparkSQL documentation for how to specify schema.\n",
    "    \n",
    "    data = sc.textFile(root_path + \"/\" + file_struct['data']) \\\n",
    "            .map(lambda l: l.split(\"|\"))\n",
    "        \n",
    "    schema_string = load_header(root_path + \"/\" + file_struct['header'])\n",
    "    \n",
    "    # I'm guessing everything is a string. \n",
    "    fields = [StructField(field_name, StringType(), True) for field_name in schema_string]\n",
    "    schema = StructType(fields)\n",
    "    \n",
    "    df = sql.createDataFrame(data, schema)\n",
    "    \n",
    "    \n",
    "    \n",
    "    return df.cache()"
   ]
  },
  {
   "cell_type": "markdown",
   "metadata": {},
   "source": [
    "### End Student Code Here"
   ]
  },
  {
   "cell_type": "markdown",
   "metadata": {},
   "source": [
    "We'll load these files into Spark now, and register them as temporary SQL tables."
   ]
  },
  {
   "cell_type": "code",
   "execution_count": null,
   "metadata": {
    "collapsed": false
   },
   "outputs": [],
   "source": [
    "com = load_dataframe(com_file)\n",
    "can = load_dataframe(can_file)\n",
    "links = load_dataframe(com_can_link_file)\n",
    "indv = load_dataframe(indv_file)\n",
    "pas = load_dataframe(pas_file)\n",
    "com_links = load_dataframe(com_links_file)"
   ]
  },
  {
   "cell_type": "code",
   "execution_count": null,
   "metadata": {
    "collapsed": true
   },
   "outputs": [],
   "source": [
    "com.registerTempTable(\"com\")\n",
    "can.registerTempTable(\"can\")\n",
    "links.registerTempTable(\"links\")\n",
    "indv.registerTempTable(\"indv\")\n",
    "pas.registerTempTable(\"pas\")\n",
    "com_links.registerTempTable(\"com_links\")"
   ]
  },
  {
   "cell_type": "markdown",
   "metadata": {},
   "source": [
    "## 1b. Basic Analytics Queries"
   ]
  },
  {
   "cell_type": "markdown",
   "metadata": {},
   "source": [
    "As a demonstration, let's query for information corresponding to the strings \"Clinton\", \"Sanders\", \"Trump\", and \"Cruz\". Try these queries. How does this output look?"
   ]
  },
  {
   "cell_type": "code",
   "execution_count": null,
   "metadata": {
    "collapsed": false
   },
   "outputs": [],
   "source": [
    "front_runners = can.where(can.CAND_NAME.like(\"%CLINTON%\") | can.CAND_NAME.like(\"%SANDERS%\") \n",
    "          | can.CAND_NAME.like(\"%TRUMP%\") | can.CAND_NAME.like(\"%CRUZ%\") )\\\n",
    "    .select(\"CAND_ID\", \"CAND_NAME\", \"CAND_STATUS\", \"CAND_OFFICE\")\n",
    "front_runners.show(truncate=False)"
   ]
  },
  {
   "cell_type": "code",
   "execution_count": null,
   "metadata": {
    "collapsed": false
   },
   "outputs": [],
   "source": [
    "front_runners = sql.sql(\"\"\"\n",
    "SELECT CAND_ID, CAND_NAME, CAND_STATUS, CAND_OFFICE\n",
    "FROM can\n",
    "WHERE CAND_NAME LIKE \"%CLINTON%\"\n",
    "OR CAND_NAME LIKE \"%SANDERS%\"\n",
    "OR CAND_NAME LIKE \"%TRUMP%\"\n",
    "OR CAND_NAME LIKE \"%CRUZ%\"\n",
    "\"\"\")\n",
    "front_runners.registerTempTable(\"fr\")\n",
    "front_runners.show(truncate=False)"
   ]
  },
  {
   "cell_type": "markdown",
   "metadata": {},
   "source": [
    "That didn't work out so well. But notice how both queries got the same results! For the rest of the questions, you are allowed to write the queries in either form. Use the DataFrames that you created in part 1a. They are listed again here for reference:\n",
    "\n",
    "* **com** contains committee information [Details](http://www.fec.gov/finance/disclosure/metadata/DataDictionaryCommitteeMaster.shtml)\n",
    "* **can** contains candidate information [Details](http://www.fec.gov/finance/disclosure/metadata/DataDictionaryCandidateMaster.shtml)\n",
    "* **links** contains linkage between committees and candidates [Details](http://www.fec.gov/finance/disclosure/metadata/DataDictionaryCandCmteLinkage.shtml)\n",
    "* **indv** contains individual contributions to committees [Details](http://www.fec.gov/finance/disclosure/metadata/DataDictionaryContributionsbyIndividuals.shtml)\n",
    "* **pas** contains contributions between committees [Details](http://www.fec.gov/finance/disclosure/metadata/DataDictionaryContributionstoCandidates.shtml)\n",
    "* **com_links** links between committees [Details](http://www.fec.gov/finance/disclosure/metadata/DataDictionaryCommitteetoCommittee.shtml)"
   ]
  },
  {
   "cell_type": "markdown",
   "metadata": {},
   "source": [
    "### Begin Student Code Here"
   ]
  },
  {
   "cell_type": "markdown",
   "metadata": {},
   "source": [
    "Q1."
   ]
  },
  {
   "cell_type": "code",
   "execution_count": null,
   "metadata": {
    "collapsed": false
   },
   "outputs": [],
   "source": [
    "front_runners = None\n",
    "# TODO\n",
    "\n",
    "front_runners = can.where(can.CAND_NAME.like(\"%CLINTON%\") | can.CAND_NAME.like(\"%SANDERS%\") \n",
    "          | can.CAND_NAME.like(\"%TRUMP%\") | can.CAND_NAME.like(\"%CRUZ%\")) \\\n",
    "        .where(can.CAND_STATUS == \"C\") \\\n",
    "        .where(can.CAND_OFFICE == \"P\")\n",
    "\n",
    "q1 = front_runners.select(\"CAND_ID\", \"CAND_NAME\", \"CAND_PCC\")\n",
    "q1.show(truncate=False)"
   ]
  },
  {
   "cell_type": "markdown",
   "metadata": {},
   "source": [
    "Q2."
   ]
  },
  {
   "cell_type": "code",
   "execution_count": null,
   "metadata": {
    "collapsed": false
   },
   "outputs": [],
   "source": [
    "num_indv_contributions = None\n",
    "# TODO\n",
    "\n",
    "front_runners.registerTempTable(\"front_runners\")\n",
    "\n",
    "num_indv_contributions = sql.sql(\"\"\"\n",
    "SELECT CAND_ID, CAND_NAME, COUNT(*) AS count\n",
    "FROM front_runners, indv\n",
    "WHERE front_runners.CAND_PCC = indv.CMTE_ID\n",
    "GROUP BY CAND_ID, CAND_NAME\n",
    "\"\"\")\n",
    "\n",
    "\n",
    "q2 = num_indv_contributions.select(\"CAND_ID\", \"CAND_NAME\", \"count\")\n",
    "q2.show(truncate=False)"
   ]
  },
  {
   "cell_type": "markdown",
   "metadata": {},
   "source": [
    "Q3."
   ]
  },
  {
   "cell_type": "code",
   "execution_count": null,
   "metadata": {
    "collapsed": false
   },
   "outputs": [],
   "source": [
    "indv_contributions_amt = None\n",
    "# TODO\n",
    "\n",
    "# $$ only comes through principal campaign committee? Guess so. \n",
    "indv_contributions_amt = sql.sql(\"\"\"\n",
    "SELECT CAND_ID, CAND_NAME, SUM(TRANSACTION_AMT) AS count\n",
    "FROM front_runners, indv\n",
    "WHERE front_runners.CAND_PCC = indv.CMTE_ID\n",
    "GROUP BY CAND_ID, CAND_NAME\n",
    "\"\"\") \\\n",
    "    .withColumnRenamed(\"count\", \"sum(TRANSACTION_AMT)\")\n",
    "    \n",
    "\n",
    "q3 = indv_contributions_amt.select(\"CAND_ID\", \"CAND_NAME\", \"sum(TRANSACTION_AMT)\")\n",
    "q3.show(truncate=False)"
   ]
  },
  {
   "cell_type": "markdown",
   "metadata": {},
   "source": [
    "Q4."
   ]
  },
  {
   "cell_type": "code",
   "execution_count": null,
   "metadata": {
    "collapsed": false
   },
   "outputs": [],
   "source": [
    "linked_committees = None\n",
    "# TODO\n",
    "\n",
    "linked_committees = sql.sql(\"\"\"\n",
    "SELECT front_runners.CAND_NAME, front_runners.CAND_ID, com.CMTE_ID, com.CMTE_NM \n",
    "FROM front_runners, links, com\n",
    "WHERE front_runners.CAND_ID = links.CAND_ID \n",
    "    AND links.CMTE_ID = com.CMTE_ID\n",
    "\"\"\")\n",
    "linked_committees.registerTempTable(\"linked_committees\")\n",
    "\n",
    "q4 = linked_committees.select(\"CAND_NAME\", \"CAND_ID\", \"CMTE_ID\", \"CMTE_NM\")\n",
    "q4.show(truncate=False)"
   ]
  },
  {
   "cell_type": "markdown",
   "metadata": {},
   "source": [
    "Q5."
   ]
  },
  {
   "cell_type": "code",
   "execution_count": null,
   "metadata": {
    "collapsed": false
   },
   "outputs": [],
   "source": [
    "num_com_contributions = None\n",
    "# TODO\n",
    "\n",
    "num_com_contributions = sql.sql(\"\"\"\n",
    "SELECT front_runners.CAND_NAME, COUNT(DISTINCT pas.CMTE_ID) as count\n",
    "FROM front_runners, pas\n",
    "WHERE front_runners.CAND_ID = pas.CAND_ID\n",
    "GROUP BY CAND_NAME\n",
    "\"\"\")\n",
    "\n",
    "q5 = num_com_contributions.select(\"CAND_NAME\", \"count\")\n",
    "q5.show(truncate=False)"
   ]
  },
  {
   "cell_type": "markdown",
   "metadata": {
    "collapsed": true
   },
   "source": [
    "Q6."
   ]
  },
  {
   "cell_type": "code",
   "execution_count": null,
   "metadata": {
    "collapsed": false
   },
   "outputs": [],
   "source": [
    "com_contributions_amt = None\n",
    "# TODO\n",
    "\n",
    "com_contributions_amt = sql.sql(\"\"\"\n",
    "SELECT front_runners.CAND_NAME, SUM(TRANSACTION_AMT) as sum \n",
    "FROM front_runners, pas\n",
    "WHERE front_runners.CAND_ID = pas.CAND_ID\n",
    "GROUP BY front_runners.CAND_NAME\n",
    "\"\"\") \\\n",
    ".withColumnRenamed(\"sum\", \"sum(TRANSACTION_AMT)\")\n",
    "\n",
    "\n",
    "q6 = com_contributions_amt.select(\"CAND_NAME\", \"sum(TRANSACTION_AMT)\")\n",
    "q6.show(truncate=False)"
   ]
  },
  {
   "cell_type": "markdown",
   "metadata": {},
   "source": [
    "### End Student Code Here"
   ]
  },
  {
   "cell_type": "markdown",
   "metadata": {},
   "source": [
    "# 2. K-means Clustering"
   ]
  },
  {
   "cell_type": "markdown",
   "metadata": {
    "collapsed": true
   },
   "source": [
    "## Use Dataframe API to load some Toy Data"
   ]
  },
  {
   "cell_type": "markdown",
   "metadata": {},
   "source": [
    "Load a parquet file as a DataFrame."
   ]
  },
  {
   "cell_type": "code",
   "execution_count": null,
   "metadata": {
    "collapsed": false
   },
   "outputs": [],
   "source": [
    "df = sql.read.parquet(\"toy_data\")"
   ]
  },
  {
   "cell_type": "markdown",
   "metadata": {},
   "source": [
    "Let's look at a few records:"
   ]
  },
  {
   "cell_type": "code",
   "execution_count": null,
   "metadata": {
    "collapsed": false
   },
   "outputs": [],
   "source": [
    "df.show()"
   ]
  },
  {
   "cell_type": "markdown",
   "metadata": {},
   "source": [
    "## Plotting the Toy Data"
   ]
  },
  {
   "cell_type": "markdown",
   "metadata": {},
   "source": [
    "We'll first plot a sample of some toy data. Let's collect a sample of records,"
   ]
  },
  {
   "cell_type": "code",
   "execution_count": null,
   "metadata": {
    "collapsed": false
   },
   "outputs": [],
   "source": [
    "sample = df.sample(False, 0.2)"
   ]
  },
  {
   "cell_type": "markdown",
   "metadata": {},
   "source": [
    "project out the `x` and the `y` columns,"
   ]
  },
  {
   "cell_type": "code",
   "execution_count": null,
   "metadata": {
    "collapsed": false
   },
   "outputs": [],
   "source": [
    "x_sample = sample.select('x').collect()\n",
    "y_sample = sample.select('y').collect()"
   ]
  },
  {
   "cell_type": "markdown",
   "metadata": {},
   "source": [
    "and plot the data."
   ]
  },
  {
   "cell_type": "code",
   "execution_count": null,
   "metadata": {
    "collapsed": false,
    "scrolled": true
   },
   "outputs": [],
   "source": [
    "plt.figure()\n",
    "plt.axis([-10, 10, -10, 10])\n",
    "plot(x_sample, y_sample, 'bo')"
   ]
  },
  {
   "cell_type": "markdown",
   "metadata": {},
   "source": [
    "## Implementation"
   ]
  },
  {
   "cell_type": "markdown",
   "metadata": {},
   "source": [
    "Implement a distributed version of K-Means clustering using PySpark."
   ]
  },
  {
   "cell_type": "markdown",
   "metadata": {},
   "source": [
    "## 2a. K-Means++ Initialization"
   ]
  },
  {
   "cell_type": "markdown",
   "metadata": {},
   "source": [
    "Initialize the centers using the K-Means++ Algorithm, using Distributed Reservoir Sampling. We've provided you the signatures of a few functions which may be helpful."
   ]
  },
  {
   "cell_type": "markdown",
   "metadata": {},
   "source": [
    "### Begin Student Code Here"
   ]
  },
  {
   "cell_type": "code",
   "execution_count": 203,
   "metadata": {
    "collapsed": false
   },
   "outputs": [],
   "source": [
    "def initialize_centers_plus(points, k):\n",
    "    \"\"\"\n",
    "    Find k initial cluster centers using distributed weighted reservoir sampling.\n",
    "    \n",
    "    Inputs:\n",
    "    points: a collection of d-dimensional points (x_1, x_2, ..., x_d).\n",
    "    k: the number of cluster centers wanted\n",
    "    \n",
    "    Output:\n",
    "    A list of k points which become the initial centers in K-means clustering\n",
    "    \"\"\"\n",
    "    centers = []\n",
    "    \n",
    "    # Choose first center uniformly at random\n",
    "    # TODO\n",
    "    centers.append(points.rdd.takeSample(False, 1, seed=0)[0])\n",
    "    \n",
    "    \n",
    "    for _ in range(1, k):\n",
    "        # Compute distances of each point to its nearest center, and\n",
    "        # TODO\n",
    "        \n",
    "        # dpoints = elem is (point, distance to closest center)\n",
    "        # dpoints = points.flatMap(lambda p: (p, nearest_center(centers, p)[1]))\n",
    "        def distances(point):\n",
    "            yield (point, (nearest_center(centers, point))[1])\n",
    "        \n",
    "        \n",
    "        # given distances, choose a new center\n",
    "        # TODO\n",
    "        #HEEERRREEE \n",
    "        #centers.append(choose_partition_center(points.mapPartitions(distances)))\n",
    "        #points.flatMap(distances) \n",
    "        \n",
    "#         best_center = None\n",
    "#         for center in points.flatMap(distances).mapPartitions(choose_partition_center):\n",
    "#             best_center = pick_between_centers(center, best_center)\n",
    "#         centers.append(best_center)\n",
    "        \n",
    "#         centers.append(points.flatMap(distances).mapPartitions(choose_partition_center) \\\n",
    "#                         .mapPartitions(pick_between_centers))\n",
    "\n",
    "        best_center = None\n",
    "        for center in points.flatMap(distances).mapPartitions(choose_partition_center).collect():\n",
    "            best_center = (pick_between_centers(center, best_center))\n",
    "        centers.append(best_center[0])\n",
    "        # Append only the center, but store all the info, for the later iterations\n",
    "        \n",
    "    return centers"
   ]
  },
  {
   "cell_type": "code",
   "execution_count": 204,
   "metadata": {
    "collapsed": true
   },
   "outputs": [],
   "source": [
    "def choose_partition_center(points_partition_iterator):\n",
    "    \"\"\"\n",
    "    Choose a single center from a SINGLE PARTITION, using weighted random sampling.\n",
    "    \n",
    "    Inputs:\n",
    "    points_partition_iterator: an iterator through a partition of D-dimensional points\n",
    "    \n",
    "    Output:\n",
    "    (As an iterator) A 2-tuple, containing the randomly-chosen center and its weighted random-sampling key\n",
    "    \"\"\"\n",
    "    center = None\n",
    "    key = None\n",
    "    # TODO\n",
    "    \n",
    "    # Maybe like, iterate through partition\n",
    "    # Apply the weird r^thing thing\n",
    "    # Then after all the iteration, do the choosing. \n",
    "    \n",
    "    # Is points_partition_iterator a generator????? Generates the distances?? \n",
    "    # Generate the distances\n",
    "    # Then the r^thing thing\n",
    "    # Then choose?\n",
    "    \n",
    "    # OMFG\n",
    "#     (center, key) = points_partition_iterator \\\n",
    "#          .flatMap(lambda p: (p[0], np.random.uniform(0, 1, size = 1)[0] ** (1/float(p[1] ** 2)))) \\\n",
    "#          .takeOrdered(1, key = lambda x: x[1])\n",
    "        \n",
    "    for p in points_partition_iterator:\n",
    "        curr_key = 0\n",
    "        if p[1] != 0:   \n",
    "            curr_key = np.random.uniform(0, 1, size = 1)[0] ** (float(1)/(p[1] ** 2))\n",
    "        if (key is None) or (curr_key > key):\n",
    "            center = p[0]\n",
    "            key = curr_key\n",
    "        \n",
    "        \n",
    "    yield (center, key)"
   ]
  },
  {
   "cell_type": "code",
   "execution_count": 217,
   "metadata": {
    "collapsed": false
   },
   "outputs": [],
   "source": [
    "def pick_between_centers(candidate_center_1, candidate_center_2):\n",
    "    \"\"\"\n",
    "    Between two centers from different partitions, pick the one with a larger key.\n",
    "    \n",
    "    Inputs:\n",
    "    candidate_center_1: a 2-tuple, containing the randomly-chosen center and its weighted random sampling key \n",
    "                        from the first partition\n",
    "    candidate_center_2: a 2-tuple, containing the randomly-chosen center and its weighted random sampling key \n",
    "                        from the first partition\n",
    "    \n",
    "    Output:\n",
    "    A 2-tuple, containing the \"better\" center and its weighted random-sampling key\n",
    "    \"\"\"\n",
    "    better_center = None\n",
    "    # TODO\n",
    "    #print(\"candidate_center_1 = \" + str(candidate_center_1))\n",
    "    #print(\"candidate_center_2 = \" + str(candidate_center_2))\n",
    "    if (candidate_center_2 is None) or (candidate_center_1[1] >= candidate_center_2[1]):\n",
    "        better_center = candidate_center_1\n",
    "    else:\n",
    "        better_center = candidate_center_2\n",
    "    \n",
    "    #print(\"better_center = \" + str(better_center))\n",
    "    return better_center"
   ]
  },
  {
   "cell_type": "code",
   "execution_count": 206,
   "metadata": {
    "collapsed": true
   },
   "outputs": [],
   "source": [
    "def nearest_center(centers, point):\n",
    "    \"\"\"\n",
    "    Given a point and a list of centers (also points), determine the center closest to that point,\n",
    "    and compute the distance to that point.\n",
    "    \n",
    "    Inputs:\n",
    "    centers: a list of points which represent the current centers\n",
    "    point: the point to examine\n",
    "    \n",
    "    Outputs:\n",
    "    A 2-tuple, containing the index of the closest center (point) and its distance from point\n",
    "    \"\"\"\n",
    "    (index, shortest_distance) = (None, None)\n",
    "    # TODO\n",
    "    distances = []\n",
    "    for center in centers:\n",
    "        distances.append(np.linalg.norm(np.array((center.x, center.y)) - np.array((point.x, point.y))))\n",
    "    shortest_distance = np.amin(distances)\n",
    "    index = np.argmin(distances)\n",
    "    \n",
    "    \n",
    "    return (index, shortest_distance)"
   ]
  },
  {
   "cell_type": "markdown",
   "metadata": {},
   "source": [
    "### End Student Code Here"
   ]
  },
  {
   "cell_type": "markdown",
   "metadata": {},
   "source": [
    "### Super simple test for nearest_center"
   ]
  },
  {
   "cell_type": "code",
   "execution_count": 207,
   "metadata": {
    "collapsed": false
   },
   "outputs": [
    {
     "name": "stdout",
     "output_type": "stream",
     "text": [
      "Centers = [Row(x=-4.381218910217285, y=5.878631591796875), Row(x=-3.3198490142822266, y=-6.9656195640563965), Row(x=5.281597137451172, y=3.2823495864868164)]\n",
      "Test point = Row(x=6.618934631347656, y=3.686994791030884)\n",
      "Result of nearest_center = (2, 1.39721484179844)\n"
     ]
    }
   ],
   "source": [
    "centers = df.rdd.takeSample(False, 3, seed=0)\n",
    "print(\"Centers = \" + str(centers))\n",
    "\n",
    "point = df.rdd.takeSample(False, 1, seed = 0)[0]\n",
    "print(\"Test point = \" + str(point))\n",
    "\n",
    "print(\"Result of nearest_center = \" + str(nearest_center(centers, point)))"
   ]
  },
  {
   "cell_type": "markdown",
   "metadata": {},
   "source": [
    "### Super simple test for choose_partition_center(points_partition_iterator)"
   ]
  },
  {
   "cell_type": "code",
   "execution_count": 208,
   "metadata": {
    "collapsed": false
   },
   "outputs": [
    {
     "name": "stdout",
     "output_type": "stream",
     "text": [
      "[Row(x=-4.381218910217285, y=5.878631591796875), Row(x=-8.474529266357422, y=-6.686147212982178), Row(x=2.495199680328369, y=4.78023099899292), Row(x=5.716551780700684, y=1.6378464698791504), Row(x=-8.183769226074219, y=3.8455898761749268), Row(x=-3.727321147918701, y=-4.232320785522461), Row(x=-4.833417892456055, y=-3.2847752571105957), Row(x=5.976852893829346, y=-6.600379943847656), Row(x=5.704458236694336, y=6.465510368347168), Row(x=1.640343427658081, y=4.029616832733154)]\n",
      "\n",
      "\n",
      "[(Row(x=-4.381218910217285, y=5.878631591796875), 0.0), (Row(x=-8.474529266357422, y=-6.686147212982178), 5.162250797486398), (Row(x=2.495199680328369, y=4.78023099899292), 3.1634885040081464), (Row(x=5.716551780700684, y=1.6378464698791504), 1.7010514519604152), (Row(x=-8.183769226074219, y=3.8455898761749268), 4.3119192388172927), (Row(x=-3.727321147918701, y=-4.232320785522461), 2.7635042522900819), (Row(x=-4.833417892456055, y=-3.2847752571105957), 3.9798876316991278), (Row(x=5.976852893829346, y=-6.600379943847656), 9.3038737281014061), (Row(x=5.704458236694336, y=6.465510368347168), 3.2111250477717217), (Row(x=1.640343427658081, y=4.029616832733154), 3.7171409599845053)]\n",
      "\n",
      "\n",
      "[(Row(x=-4.381218910217285, y=5.878631591796875), 0), (Row(x=5.716551780700684, y=1.6378464698791504), 0.99950431094515579), (Row(x=-4.833417892456055, y=-3.2847752571105957), 0.98971675323724539), (Row(x=1.640343427658081, y=4.029616832733154), 0.99989617276673326)]\n"
     ]
    }
   ],
   "source": [
    "def distances(point):\n",
    "            yield (point, (nearest_center(centers, point))[1])\n",
    "\n",
    "print(df.sample(False, 0.01, 0).collect())     \n",
    "print('\\n')\n",
    "print(df.sample(False, 0.01, 0).flatMap(distances).collect())\n",
    "print('\\n')\n",
    "print(df.sample(False, 0.01, 0).flatMap(distances).mapPartitions(choose_partition_center).collect())"
   ]
  },
  {
   "cell_type": "markdown",
   "metadata": {},
   "source": [
    "### Super simple test for pick_between_centers(candidate_center_1, candidate_center_2)"
   ]
  },
  {
   "cell_type": "code",
   "execution_count": 209,
   "metadata": {
    "collapsed": false
   },
   "outputs": [
    {
     "name": "stdout",
     "output_type": "stream",
     "text": [
      "[(Row(x=-4.381218910217285, y=5.878631591796875), 0), (Row(x=5.716551780700684, y=1.6378464698791504), 0.99950431094515579), (Row(x=-4.833417892456055, y=-3.2847752571105957), 0.98229826920694463), (Row(x=5.704458236694336, y=6.465510368347168), 0.9998608743391435)]\n",
      "\n",
      "\n",
      "candidate_center_1 = (Row(x=-4.381218910217285, y=5.878631591796875), 0)\n",
      "candidate_center_2 = (Row(x=5.716551780700684, y=1.6378464698791504), 0.99950431094515579)\n",
      "better_center = (Row(x=5.716551780700684, y=1.6378464698791504), 0.99950431094515579)\n",
      "(Row(x=5.716551780700684, y=1.6378464698791504), 0.99950431094515579)\n"
     ]
    }
   ],
   "source": [
    "candidates = df.sample(False, 0.01, 0).flatMap(distances).mapPartitions(choose_partition_center).collect()\n",
    "print(candidates)\n",
    "print('\\n')\n",
    "print(pick_between_centers(candidates[0], candidates[1]))"
   ]
  },
  {
   "cell_type": "code",
   "execution_count": 210,
   "metadata": {
    "collapsed": false
   },
   "outputs": [
    {
     "name": "stdout",
     "output_type": "stream",
     "text": [
      "candidate_center_1 = (Row(x=-4.381218910217285, y=5.878631591796875), 0)\n",
      "candidate_center_2 = None\n",
      "better_center = (Row(x=-4.381218910217285, y=5.878631591796875), 0)\n",
      "(Row(x=-4.381218910217285, y=5.878631591796875), 0)\n",
      "candidate_center_1 = (Row(x=5.716551780700684, y=1.6378464698791504), 0.99950431094515579)\n",
      "candidate_center_2 = (Row(x=-4.381218910217285, y=5.878631591796875), 0)\n",
      "better_center = (Row(x=5.716551780700684, y=1.6378464698791504), 0.99950431094515579)\n",
      "(Row(x=5.716551780700684, y=1.6378464698791504), 0.99950431094515579)\n",
      "candidate_center_1 = (Row(x=-4.833417892456055, y=-3.2847752571105957), 0.98229826920694463)\n",
      "candidate_center_2 = (Row(x=5.716551780700684, y=1.6378464698791504), 0.99950431094515579)\n",
      "better_center = (Row(x=5.716551780700684, y=1.6378464698791504), 0.99950431094515579)\n",
      "(Row(x=5.716551780700684, y=1.6378464698791504), 0.99950431094515579)\n",
      "candidate_center_1 = (Row(x=5.704458236694336, y=6.465510368347168), 0.9998608743391435)\n",
      "candidate_center_2 = (Row(x=5.716551780700684, y=1.6378464698791504), 0.99950431094515579)\n",
      "better_center = (Row(x=5.704458236694336, y=6.465510368347168), 0.9998608743391435)\n",
      "(Row(x=5.704458236694336, y=6.465510368347168), 0.9998608743391435)\n",
      "best_center = (Row(x=5.704458236694336, y=6.465510368347168), 0.9998608743391435)\n"
     ]
    }
   ],
   "source": [
    "best_center = None \n",
    "for cand in candidates:\n",
    "    best_center = pick_between_centers(cand, best_center)\n",
    "    print(best_center)\n",
    "print(\"best_center = \" + str(best_center))"
   ]
  },
  {
   "cell_type": "code",
   "execution_count": 218,
   "metadata": {
    "collapsed": false
   },
   "outputs": [
    {
     "name": "stdout",
     "output_type": "stream",
     "text": [
      "[(Row(x=-4.381218910217285, y=5.878631591796875), 0), (Row(x=5.716551780700684, y=1.6378464698791504), 0.99950431094515579), (Row(x=-4.833417892456055, y=-3.2847752571105957), 0.98229826920694463), (Row(x=5.704458236694336, y=6.465510368347168), 0.9998608743391435)]\n",
      "\n",
      "\n",
      "list_of_centers = [Row(x=5.704458236694336, y=6.465510368347168), Row(x=5.704458236694336, y=6.465510368347168), Row(x=5.704458236694336, y=6.465510368347168), Row(x=5.704458236694336, y=6.465510368347168)]\n"
     ]
    }
   ],
   "source": [
    "list_of_centers = []\n",
    "print(candidates)\n",
    "print('\\n')\n",
    "for _ in range(1, 5):\n",
    "        best_center = None\n",
    "        for cand in candidates:\n",
    "            #print(\"cand = \" + str(cand))\n",
    "            best_center = pick_between_centers(cand, best_center)\n",
    "            #print(\"result = \" + str(best_center))\n",
    "            #print(\"Line 10, appending \" + str(best_center[0]))\n",
    "        list_of_centers.append(best_center[0])\n",
    "        #print('\\n')\n",
    "        \n",
    "print(\"list_of_centers = \" + str(list_of_centers))"
   ]
  },
  {
   "cell_type": "markdown",
   "metadata": {},
   "source": [
    "## Plotting the centers"
   ]
  },
  {
   "cell_type": "markdown",
   "metadata": {},
   "source": [
    "Let's see how our initialization algorithm performs. How do your centers look? Are they too close to each other?"
   ]
  },
  {
   "cell_type": "code",
   "execution_count": 219,
   "metadata": {
    "collapsed": false
   },
   "outputs": [
    {
     "name": "stdout",
     "output_type": "stream",
     "text": [
      "[Row(x=6.618934631347656, y=3.686994791030884), Row(x=5.976852893829346, y=-6.600379943847656), Row(x=-5.170480251312256, y=-6.043271064758301), Row(x=-6.756197929382324, y=2.853394031524658)]\n"
     ]
    },
    {
     "data": {
      "application/javascript": [
       "/* Put everything inside the global mpl namespace */\n",
       "window.mpl = {};\n",
       "\n",
       "mpl.get_websocket_type = function() {\n",
       "    if (typeof(WebSocket) !== 'undefined') {\n",
       "        return WebSocket;\n",
       "    } else if (typeof(MozWebSocket) !== 'undefined') {\n",
       "        return MozWebSocket;\n",
       "    } else {\n",
       "        alert('Your browser does not have WebSocket support.' +\n",
       "              'Please try Chrome, Safari or Firefox ≥ 6. ' +\n",
       "              'Firefox 4 and 5 are also supported but you ' +\n",
       "              'have to enable WebSockets in about:config.');\n",
       "    };\n",
       "}\n",
       "\n",
       "mpl.figure = function(figure_id, websocket, ondownload, parent_element) {\n",
       "    this.id = figure_id;\n",
       "\n",
       "    this.ws = websocket;\n",
       "\n",
       "    this.supports_binary = (this.ws.binaryType != undefined);\n",
       "\n",
       "    if (!this.supports_binary) {\n",
       "        var warnings = document.getElementById(\"mpl-warnings\");\n",
       "        if (warnings) {\n",
       "            warnings.style.display = 'block';\n",
       "            warnings.textContent = (\n",
       "                \"This browser does not support binary websocket messages. \" +\n",
       "                    \"Performance may be slow.\");\n",
       "        }\n",
       "    }\n",
       "\n",
       "    this.imageObj = new Image();\n",
       "\n",
       "    this.context = undefined;\n",
       "    this.message = undefined;\n",
       "    this.canvas = undefined;\n",
       "    this.rubberband_canvas = undefined;\n",
       "    this.rubberband_context = undefined;\n",
       "    this.format_dropdown = undefined;\n",
       "\n",
       "    this.image_mode = 'full';\n",
       "\n",
       "    this.root = $('<div/>');\n",
       "    this._root_extra_style(this.root)\n",
       "    this.root.attr('style', 'display: inline-block');\n",
       "\n",
       "    $(parent_element).append(this.root);\n",
       "\n",
       "    this._init_header(this);\n",
       "    this._init_canvas(this);\n",
       "    this._init_toolbar(this);\n",
       "\n",
       "    var fig = this;\n",
       "\n",
       "    this.waiting = false;\n",
       "\n",
       "    this.ws.onopen =  function () {\n",
       "            fig.send_message(\"supports_binary\", {value: fig.supports_binary});\n",
       "            fig.send_message(\"send_image_mode\", {});\n",
       "            fig.send_message(\"refresh\", {});\n",
       "        }\n",
       "\n",
       "    this.imageObj.onload = function() {\n",
       "            if (fig.image_mode == 'full') {\n",
       "                // Full images could contain transparency (where diff images\n",
       "                // almost always do), so we need to clear the canvas so that\n",
       "                // there is no ghosting.\n",
       "                fig.context.clearRect(0, 0, fig.canvas.width, fig.canvas.height);\n",
       "            }\n",
       "            fig.context.drawImage(fig.imageObj, 0, 0);\n",
       "        };\n",
       "\n",
       "    this.imageObj.onunload = function() {\n",
       "        this.ws.close();\n",
       "    }\n",
       "\n",
       "    this.ws.onmessage = this._make_on_message_function(this);\n",
       "\n",
       "    this.ondownload = ondownload;\n",
       "}\n",
       "\n",
       "mpl.figure.prototype._init_header = function() {\n",
       "    var titlebar = $(\n",
       "        '<div class=\"ui-dialog-titlebar ui-widget-header ui-corner-all ' +\n",
       "        'ui-helper-clearfix\"/>');\n",
       "    var titletext = $(\n",
       "        '<div class=\"ui-dialog-title\" style=\"width: 100%; ' +\n",
       "        'text-align: center; padding: 3px;\"/>');\n",
       "    titlebar.append(titletext)\n",
       "    this.root.append(titlebar);\n",
       "    this.header = titletext[0];\n",
       "}\n",
       "\n",
       "\n",
       "\n",
       "mpl.figure.prototype._canvas_extra_style = function(canvas_div) {\n",
       "\n",
       "}\n",
       "\n",
       "\n",
       "mpl.figure.prototype._root_extra_style = function(canvas_div) {\n",
       "\n",
       "}\n",
       "\n",
       "mpl.figure.prototype._init_canvas = function() {\n",
       "    var fig = this;\n",
       "\n",
       "    var canvas_div = $('<div/>');\n",
       "\n",
       "    canvas_div.attr('style', 'position: relative; clear: both; outline: 0');\n",
       "\n",
       "    function canvas_keyboard_event(event) {\n",
       "        return fig.key_event(event, event['data']);\n",
       "    }\n",
       "\n",
       "    canvas_div.keydown('key_press', canvas_keyboard_event);\n",
       "    canvas_div.keyup('key_release', canvas_keyboard_event);\n",
       "    this.canvas_div = canvas_div\n",
       "    this._canvas_extra_style(canvas_div)\n",
       "    this.root.append(canvas_div);\n",
       "\n",
       "    var canvas = $('<canvas/>');\n",
       "    canvas.addClass('mpl-canvas');\n",
       "    canvas.attr('style', \"left: 0; top: 0; z-index: 0; outline: 0\")\n",
       "\n",
       "    this.canvas = canvas[0];\n",
       "    this.context = canvas[0].getContext(\"2d\");\n",
       "\n",
       "    var rubberband = $('<canvas/>');\n",
       "    rubberband.attr('style', \"position: absolute; left: 0; top: 0; z-index: 1;\")\n",
       "\n",
       "    var pass_mouse_events = true;\n",
       "\n",
       "    canvas_div.resizable({\n",
       "        start: function(event, ui) {\n",
       "            pass_mouse_events = false;\n",
       "        },\n",
       "        resize: function(event, ui) {\n",
       "            fig.request_resize(ui.size.width, ui.size.height);\n",
       "        },\n",
       "        stop: function(event, ui) {\n",
       "            pass_mouse_events = true;\n",
       "            fig.request_resize(ui.size.width, ui.size.height);\n",
       "        },\n",
       "    });\n",
       "\n",
       "    function mouse_event_fn(event) {\n",
       "        if (pass_mouse_events)\n",
       "            return fig.mouse_event(event, event['data']);\n",
       "    }\n",
       "\n",
       "    rubberband.mousedown('button_press', mouse_event_fn);\n",
       "    rubberband.mouseup('button_release', mouse_event_fn);\n",
       "    // Throttle sequential mouse events to 1 every 20ms.\n",
       "    rubberband.mousemove('motion_notify', mouse_event_fn);\n",
       "\n",
       "    rubberband.mouseenter('figure_enter', mouse_event_fn);\n",
       "    rubberband.mouseleave('figure_leave', mouse_event_fn);\n",
       "\n",
       "    canvas_div.on(\"wheel\", function (event) {\n",
       "        event = event.originalEvent;\n",
       "        event['data'] = 'scroll'\n",
       "        if (event.deltaY < 0) {\n",
       "            event.step = 1;\n",
       "        } else {\n",
       "            event.step = -1;\n",
       "        }\n",
       "        mouse_event_fn(event);\n",
       "    });\n",
       "\n",
       "    canvas_div.append(canvas);\n",
       "    canvas_div.append(rubberband);\n",
       "\n",
       "    this.rubberband = rubberband;\n",
       "    this.rubberband_canvas = rubberband[0];\n",
       "    this.rubberband_context = rubberband[0].getContext(\"2d\");\n",
       "    this.rubberband_context.strokeStyle = \"#000000\";\n",
       "\n",
       "    this._resize_canvas = function(width, height) {\n",
       "        // Keep the size of the canvas, canvas container, and rubber band\n",
       "        // canvas in synch.\n",
       "        canvas_div.css('width', width)\n",
       "        canvas_div.css('height', height)\n",
       "\n",
       "        canvas.attr('width', width);\n",
       "        canvas.attr('height', height);\n",
       "\n",
       "        rubberband.attr('width', width);\n",
       "        rubberband.attr('height', height);\n",
       "    }\n",
       "\n",
       "    // Set the figure to an initial 600x600px, this will subsequently be updated\n",
       "    // upon first draw.\n",
       "    this._resize_canvas(600, 600);\n",
       "\n",
       "    // Disable right mouse context menu.\n",
       "    $(this.rubberband_canvas).bind(\"contextmenu\",function(e){\n",
       "        return false;\n",
       "    });\n",
       "\n",
       "    function set_focus () {\n",
       "        canvas.focus();\n",
       "        canvas_div.focus();\n",
       "    }\n",
       "\n",
       "    window.setTimeout(set_focus, 100);\n",
       "}\n",
       "\n",
       "mpl.figure.prototype._init_toolbar = function() {\n",
       "    var fig = this;\n",
       "\n",
       "    var nav_element = $('<div/>')\n",
       "    nav_element.attr('style', 'width: 100%');\n",
       "    this.root.append(nav_element);\n",
       "\n",
       "    // Define a callback function for later on.\n",
       "    function toolbar_event(event) {\n",
       "        return fig.toolbar_button_onclick(event['data']);\n",
       "    }\n",
       "    function toolbar_mouse_event(event) {\n",
       "        return fig.toolbar_button_onmouseover(event['data']);\n",
       "    }\n",
       "\n",
       "    for(var toolbar_ind in mpl.toolbar_items) {\n",
       "        var name = mpl.toolbar_items[toolbar_ind][0];\n",
       "        var tooltip = mpl.toolbar_items[toolbar_ind][1];\n",
       "        var image = mpl.toolbar_items[toolbar_ind][2];\n",
       "        var method_name = mpl.toolbar_items[toolbar_ind][3];\n",
       "\n",
       "        if (!name) {\n",
       "            // put a spacer in here.\n",
       "            continue;\n",
       "        }\n",
       "        var button = $('<button/>');\n",
       "        button.addClass('ui-button ui-widget ui-state-default ui-corner-all ' +\n",
       "                        'ui-button-icon-only');\n",
       "        button.attr('role', 'button');\n",
       "        button.attr('aria-disabled', 'false');\n",
       "        button.click(method_name, toolbar_event);\n",
       "        button.mouseover(tooltip, toolbar_mouse_event);\n",
       "\n",
       "        var icon_img = $('<span/>');\n",
       "        icon_img.addClass('ui-button-icon-primary ui-icon');\n",
       "        icon_img.addClass(image);\n",
       "        icon_img.addClass('ui-corner-all');\n",
       "\n",
       "        var tooltip_span = $('<span/>');\n",
       "        tooltip_span.addClass('ui-button-text');\n",
       "        tooltip_span.html(tooltip);\n",
       "\n",
       "        button.append(icon_img);\n",
       "        button.append(tooltip_span);\n",
       "\n",
       "        nav_element.append(button);\n",
       "    }\n",
       "\n",
       "    var fmt_picker_span = $('<span/>');\n",
       "\n",
       "    var fmt_picker = $('<select/>');\n",
       "    fmt_picker.addClass('mpl-toolbar-option ui-widget ui-widget-content');\n",
       "    fmt_picker_span.append(fmt_picker);\n",
       "    nav_element.append(fmt_picker_span);\n",
       "    this.format_dropdown = fmt_picker[0];\n",
       "\n",
       "    for (var ind in mpl.extensions) {\n",
       "        var fmt = mpl.extensions[ind];\n",
       "        var option = $(\n",
       "            '<option/>', {selected: fmt === mpl.default_extension}).html(fmt);\n",
       "        fmt_picker.append(option)\n",
       "    }\n",
       "\n",
       "    // Add hover states to the ui-buttons\n",
       "    $( \".ui-button\" ).hover(\n",
       "        function() { $(this).addClass(\"ui-state-hover\");},\n",
       "        function() { $(this).removeClass(\"ui-state-hover\");}\n",
       "    );\n",
       "\n",
       "    var status_bar = $('<span class=\"mpl-message\"/>');\n",
       "    nav_element.append(status_bar);\n",
       "    this.message = status_bar[0];\n",
       "}\n",
       "\n",
       "mpl.figure.prototype.request_resize = function(x_pixels, y_pixels) {\n",
       "    // Request matplotlib to resize the figure. Matplotlib will then trigger a resize in the client,\n",
       "    // which will in turn request a refresh of the image.\n",
       "    this.send_message('resize', {'width': x_pixels, 'height': y_pixels});\n",
       "}\n",
       "\n",
       "mpl.figure.prototype.send_message = function(type, properties) {\n",
       "    properties['type'] = type;\n",
       "    properties['figure_id'] = this.id;\n",
       "    this.ws.send(JSON.stringify(properties));\n",
       "}\n",
       "\n",
       "mpl.figure.prototype.send_draw_message = function() {\n",
       "    if (!this.waiting) {\n",
       "        this.waiting = true;\n",
       "        this.ws.send(JSON.stringify({type: \"draw\", figure_id: this.id}));\n",
       "    }\n",
       "}\n",
       "\n",
       "\n",
       "mpl.figure.prototype.handle_save = function(fig, msg) {\n",
       "    var format_dropdown = fig.format_dropdown;\n",
       "    var format = format_dropdown.options[format_dropdown.selectedIndex].value;\n",
       "    fig.ondownload(fig, format);\n",
       "}\n",
       "\n",
       "\n",
       "mpl.figure.prototype.handle_resize = function(fig, msg) {\n",
       "    var size = msg['size'];\n",
       "    if (size[0] != fig.canvas.width || size[1] != fig.canvas.height) {\n",
       "        fig._resize_canvas(size[0], size[1]);\n",
       "        fig.send_message(\"refresh\", {});\n",
       "    };\n",
       "}\n",
       "\n",
       "mpl.figure.prototype.handle_rubberband = function(fig, msg) {\n",
       "    var x0 = msg['x0'];\n",
       "    var y0 = fig.canvas.height - msg['y0'];\n",
       "    var x1 = msg['x1'];\n",
       "    var y1 = fig.canvas.height - msg['y1'];\n",
       "    x0 = Math.floor(x0) + 0.5;\n",
       "    y0 = Math.floor(y0) + 0.5;\n",
       "    x1 = Math.floor(x1) + 0.5;\n",
       "    y1 = Math.floor(y1) + 0.5;\n",
       "    var min_x = Math.min(x0, x1);\n",
       "    var min_y = Math.min(y0, y1);\n",
       "    var width = Math.abs(x1 - x0);\n",
       "    var height = Math.abs(y1 - y0);\n",
       "\n",
       "    fig.rubberband_context.clearRect(\n",
       "        0, 0, fig.canvas.width, fig.canvas.height);\n",
       "\n",
       "    fig.rubberband_context.strokeRect(min_x, min_y, width, height);\n",
       "}\n",
       "\n",
       "mpl.figure.prototype.handle_figure_label = function(fig, msg) {\n",
       "    // Updates the figure title.\n",
       "    fig.header.textContent = msg['label'];\n",
       "}\n",
       "\n",
       "mpl.figure.prototype.handle_cursor = function(fig, msg) {\n",
       "    var cursor = msg['cursor'];\n",
       "    switch(cursor)\n",
       "    {\n",
       "    case 0:\n",
       "        cursor = 'pointer';\n",
       "        break;\n",
       "    case 1:\n",
       "        cursor = 'default';\n",
       "        break;\n",
       "    case 2:\n",
       "        cursor = 'crosshair';\n",
       "        break;\n",
       "    case 3:\n",
       "        cursor = 'move';\n",
       "        break;\n",
       "    }\n",
       "    fig.rubberband_canvas.style.cursor = cursor;\n",
       "}\n",
       "\n",
       "mpl.figure.prototype.handle_message = function(fig, msg) {\n",
       "    fig.message.textContent = msg['message'];\n",
       "}\n",
       "\n",
       "mpl.figure.prototype.handle_draw = function(fig, msg) {\n",
       "    // Request the server to send over a new figure.\n",
       "    fig.send_draw_message();\n",
       "}\n",
       "\n",
       "mpl.figure.prototype.handle_image_mode = function(fig, msg) {\n",
       "    fig.image_mode = msg['mode'];\n",
       "}\n",
       "\n",
       "mpl.figure.prototype.updated_canvas_event = function() {\n",
       "    // Called whenever the canvas gets updated.\n",
       "    this.send_message(\"ack\", {});\n",
       "}\n",
       "\n",
       "// A function to construct a web socket function for onmessage handling.\n",
       "// Called in the figure constructor.\n",
       "mpl.figure.prototype._make_on_message_function = function(fig) {\n",
       "    return function socket_on_message(evt) {\n",
       "        if (evt.data instanceof Blob) {\n",
       "            /* FIXME: We get \"Resource interpreted as Image but\n",
       "             * transferred with MIME type text/plain:\" errors on\n",
       "             * Chrome.  But how to set the MIME type?  It doesn't seem\n",
       "             * to be part of the websocket stream */\n",
       "            evt.data.type = \"image/png\";\n",
       "\n",
       "            /* Free the memory for the previous frames */\n",
       "            if (fig.imageObj.src) {\n",
       "                (window.URL || window.webkitURL).revokeObjectURL(\n",
       "                    fig.imageObj.src);\n",
       "            }\n",
       "\n",
       "            fig.imageObj.src = (window.URL || window.webkitURL).createObjectURL(\n",
       "                evt.data);\n",
       "            fig.updated_canvas_event();\n",
       "            fig.waiting = false;\n",
       "            return;\n",
       "        }\n",
       "        else if (typeof evt.data === 'string' && evt.data.slice(0, 21) == \"data:image/png;base64\") {\n",
       "            fig.imageObj.src = evt.data;\n",
       "            fig.updated_canvas_event();\n",
       "            fig.waiting = false;\n",
       "            return;\n",
       "        }\n",
       "\n",
       "        var msg = JSON.parse(evt.data);\n",
       "        var msg_type = msg['type'];\n",
       "\n",
       "        // Call the  \"handle_{type}\" callback, which takes\n",
       "        // the figure and JSON message as its only arguments.\n",
       "        try {\n",
       "            var callback = fig[\"handle_\" + msg_type];\n",
       "        } catch (e) {\n",
       "            console.log(\"No handler for the '\" + msg_type + \"' message type: \", msg);\n",
       "            return;\n",
       "        }\n",
       "\n",
       "        if (callback) {\n",
       "            try {\n",
       "                // console.log(\"Handling '\" + msg_type + \"' message: \", msg);\n",
       "                callback(fig, msg);\n",
       "            } catch (e) {\n",
       "                console.log(\"Exception inside the 'handler_\" + msg_type + \"' callback:\", e, e.stack, msg);\n",
       "            }\n",
       "        }\n",
       "    };\n",
       "}\n",
       "\n",
       "// from http://stackoverflow.com/questions/1114465/getting-mouse-location-in-canvas\n",
       "mpl.findpos = function(e) {\n",
       "    //this section is from http://www.quirksmode.org/js/events_properties.html\n",
       "    var targ;\n",
       "    if (!e)\n",
       "        e = window.event;\n",
       "    if (e.target)\n",
       "        targ = e.target;\n",
       "    else if (e.srcElement)\n",
       "        targ = e.srcElement;\n",
       "    if (targ.nodeType == 3) // defeat Safari bug\n",
       "        targ = targ.parentNode;\n",
       "\n",
       "    // jQuery normalizes the pageX and pageY\n",
       "    // pageX,Y are the mouse positions relative to the document\n",
       "    // offset() returns the position of the element relative to the document\n",
       "    var x = e.pageX - $(targ).offset().left;\n",
       "    var y = e.pageY - $(targ).offset().top;\n",
       "\n",
       "    return {\"x\": x, \"y\": y};\n",
       "};\n",
       "\n",
       "/*\n",
       " * return a copy of an object with only non-object keys\n",
       " * we need this to avoid circular references\n",
       " * http://stackoverflow.com/a/24161582/3208463\n",
       " */\n",
       "function simpleKeys (original) {\n",
       "  return Object.keys(original).reduce(function (obj, key) {\n",
       "    if (typeof original[key] !== 'object')\n",
       "        obj[key] = original[key]\n",
       "    return obj;\n",
       "  }, {});\n",
       "}\n",
       "\n",
       "mpl.figure.prototype.mouse_event = function(event, name) {\n",
       "    var canvas_pos = mpl.findpos(event)\n",
       "\n",
       "    if (name === 'button_press')\n",
       "    {\n",
       "        this.canvas.focus();\n",
       "        this.canvas_div.focus();\n",
       "    }\n",
       "\n",
       "    var x = canvas_pos.x;\n",
       "    var y = canvas_pos.y;\n",
       "\n",
       "    this.send_message(name, {x: x, y: y, button: event.button,\n",
       "                             step: event.step,\n",
       "                             guiEvent: simpleKeys(event)});\n",
       "\n",
       "    /* This prevents the web browser from automatically changing to\n",
       "     * the text insertion cursor when the button is pressed.  We want\n",
       "     * to control all of the cursor setting manually through the\n",
       "     * 'cursor' event from matplotlib */\n",
       "    event.preventDefault();\n",
       "    return false;\n",
       "}\n",
       "\n",
       "mpl.figure.prototype._key_event_extra = function(event, name) {\n",
       "    // Handle any extra behaviour associated with a key event\n",
       "}\n",
       "\n",
       "mpl.figure.prototype.key_event = function(event, name) {\n",
       "\n",
       "    // Prevent repeat events\n",
       "    if (name == 'key_press')\n",
       "    {\n",
       "        if (event.which === this._key)\n",
       "            return;\n",
       "        else\n",
       "            this._key = event.which;\n",
       "    }\n",
       "    if (name == 'key_release')\n",
       "        this._key = null;\n",
       "\n",
       "    var value = '';\n",
       "    if (event.ctrlKey && event.which != 17)\n",
       "        value += \"ctrl+\";\n",
       "    if (event.altKey && event.which != 18)\n",
       "        value += \"alt+\";\n",
       "    if (event.shiftKey && event.which != 16)\n",
       "        value += \"shift+\";\n",
       "\n",
       "    value += 'k';\n",
       "    value += event.which.toString();\n",
       "\n",
       "    this._key_event_extra(event, name);\n",
       "\n",
       "    this.send_message(name, {key: value,\n",
       "                             guiEvent: simpleKeys(event)});\n",
       "    return false;\n",
       "}\n",
       "\n",
       "mpl.figure.prototype.toolbar_button_onclick = function(name) {\n",
       "    if (name == 'download') {\n",
       "        this.handle_save(this, null);\n",
       "    } else {\n",
       "        this.send_message(\"toolbar_button\", {name: name});\n",
       "    }\n",
       "};\n",
       "\n",
       "mpl.figure.prototype.toolbar_button_onmouseover = function(tooltip) {\n",
       "    this.message.textContent = tooltip;\n",
       "};\n",
       "mpl.toolbar_items = [[\"Home\", \"Reset original view\", \"fa fa-home icon-home\", \"home\"], [\"Back\", \"Back to  previous view\", \"fa fa-arrow-left icon-arrow-left\", \"back\"], [\"Forward\", \"Forward to next view\", \"fa fa-arrow-right icon-arrow-right\", \"forward\"], [\"\", \"\", \"\", \"\"], [\"Pan\", \"Pan axes with left mouse, zoom with right\", \"fa fa-arrows icon-move\", \"pan\"], [\"Zoom\", \"Zoom to rectangle\", \"fa fa-square-o icon-check-empty\", \"zoom\"], [\"\", \"\", \"\", \"\"], [\"Download\", \"Download plot\", \"fa fa-floppy-o icon-save\", \"download\"]];\n",
       "\n",
       "mpl.extensions = [\"eps\", \"jpeg\", \"pdf\", \"png\", \"ps\", \"raw\", \"svg\", \"tif\"];\n",
       "\n",
       "mpl.default_extension = \"png\";var comm_websocket_adapter = function(comm) {\n",
       "    // Create a \"websocket\"-like object which calls the given IPython comm\n",
       "    // object with the appropriate methods. Currently this is a non binary\n",
       "    // socket, so there is still some room for performance tuning.\n",
       "    var ws = {};\n",
       "\n",
       "    ws.close = function() {\n",
       "        comm.close()\n",
       "    };\n",
       "    ws.send = function(m) {\n",
       "        //console.log('sending', m);\n",
       "        comm.send(m);\n",
       "    };\n",
       "    // Register the callback with on_msg.\n",
       "    comm.on_msg(function(msg) {\n",
       "        //console.log('receiving', msg['content']['data'], msg);\n",
       "        // Pass the mpl event to the overriden (by mpl) onmessage function.\n",
       "        ws.onmessage(msg['content']['data'])\n",
       "    });\n",
       "    return ws;\n",
       "}\n",
       "\n",
       "mpl.mpl_figure_comm = function(comm, msg) {\n",
       "    // This is the function which gets called when the mpl process\n",
       "    // starts-up an IPython Comm through the \"matplotlib\" channel.\n",
       "\n",
       "    var id = msg.content.data.id;\n",
       "    // Get hold of the div created by the display call when the Comm\n",
       "    // socket was opened in Python.\n",
       "    var element = $(\"#\" + id);\n",
       "    var ws_proxy = comm_websocket_adapter(comm)\n",
       "\n",
       "    function ondownload(figure, format) {\n",
       "        window.open(figure.imageObj.src);\n",
       "    }\n",
       "\n",
       "    var fig = new mpl.figure(id, ws_proxy,\n",
       "                           ondownload,\n",
       "                           element.get(0));\n",
       "\n",
       "    // Call onopen now - mpl needs it, as it is assuming we've passed it a real\n",
       "    // web socket which is closed, not our websocket->open comm proxy.\n",
       "    ws_proxy.onopen();\n",
       "\n",
       "    fig.parent_element = element.get(0);\n",
       "    fig.cell_info = mpl.find_output_cell(\"<div id='\" + id + \"'></div>\");\n",
       "    if (!fig.cell_info) {\n",
       "        console.error(\"Failed to find cell for figure\", id, fig);\n",
       "        return;\n",
       "    }\n",
       "\n",
       "    var output_index = fig.cell_info[2]\n",
       "    var cell = fig.cell_info[0];\n",
       "\n",
       "};\n",
       "\n",
       "mpl.figure.prototype.handle_close = function(fig, msg) {\n",
       "    fig.root.unbind('remove')\n",
       "\n",
       "    // Update the output cell to use the data from the current canvas.\n",
       "    fig.push_to_output();\n",
       "    var dataURL = fig.canvas.toDataURL();\n",
       "    // Re-enable the keyboard manager in IPython - without this line, in FF,\n",
       "    // the notebook keyboard shortcuts fail.\n",
       "    IPython.keyboard_manager.enable()\n",
       "    $(fig.parent_element).html('<img src=\"' + dataURL + '\">');\n",
       "    fig.close_ws(fig, msg);\n",
       "}\n",
       "\n",
       "mpl.figure.prototype.close_ws = function(fig, msg){\n",
       "    fig.send_message('closing', msg);\n",
       "    // fig.ws.close()\n",
       "}\n",
       "\n",
       "mpl.figure.prototype.push_to_output = function(remove_interactive) {\n",
       "    // Turn the data on the canvas into data in the output cell.\n",
       "    var dataURL = this.canvas.toDataURL();\n",
       "    this.cell_info[1]['text/html'] = '<img src=\"' + dataURL + '\">';\n",
       "}\n",
       "\n",
       "mpl.figure.prototype.updated_canvas_event = function() {\n",
       "    // Tell IPython that the notebook contents must change.\n",
       "    IPython.notebook.set_dirty(true);\n",
       "    this.send_message(\"ack\", {});\n",
       "    var fig = this;\n",
       "    // Wait a second, then push the new image to the DOM so\n",
       "    // that it is saved nicely (might be nice to debounce this).\n",
       "    setTimeout(function () { fig.push_to_output() }, 1000);\n",
       "}\n",
       "\n",
       "mpl.figure.prototype._init_toolbar = function() {\n",
       "    var fig = this;\n",
       "\n",
       "    var nav_element = $('<div/>')\n",
       "    nav_element.attr('style', 'width: 100%');\n",
       "    this.root.append(nav_element);\n",
       "\n",
       "    // Define a callback function for later on.\n",
       "    function toolbar_event(event) {\n",
       "        return fig.toolbar_button_onclick(event['data']);\n",
       "    }\n",
       "    function toolbar_mouse_event(event) {\n",
       "        return fig.toolbar_button_onmouseover(event['data']);\n",
       "    }\n",
       "\n",
       "    for(var toolbar_ind in mpl.toolbar_items){\n",
       "        var name = mpl.toolbar_items[toolbar_ind][0];\n",
       "        var tooltip = mpl.toolbar_items[toolbar_ind][1];\n",
       "        var image = mpl.toolbar_items[toolbar_ind][2];\n",
       "        var method_name = mpl.toolbar_items[toolbar_ind][3];\n",
       "\n",
       "        if (!name) { continue; };\n",
       "\n",
       "        var button = $('<button class=\"btn btn-default\" href=\"#\" title=\"' + name + '\"><i class=\"fa ' + image + ' fa-lg\"></i></button>');\n",
       "        button.click(method_name, toolbar_event);\n",
       "        button.mouseover(tooltip, toolbar_mouse_event);\n",
       "        nav_element.append(button);\n",
       "    }\n",
       "\n",
       "    // Add the status bar.\n",
       "    var status_bar = $('<span class=\"mpl-message\" style=\"text-align:right; float: right;\"/>');\n",
       "    nav_element.append(status_bar);\n",
       "    this.message = status_bar[0];\n",
       "\n",
       "    // Add the close button to the window.\n",
       "    var buttongrp = $('<div class=\"btn-group inline pull-right\"></div>');\n",
       "    var button = $('<button class=\"btn btn-mini btn-primary\" href=\"#\" title=\"Stop Interaction\"><i class=\"fa fa-power-off icon-remove icon-large\"></i></button>');\n",
       "    button.click(function (evt) { fig.handle_close(fig, {}); } );\n",
       "    button.mouseover('Stop Interaction', toolbar_mouse_event);\n",
       "    buttongrp.append(button);\n",
       "    var titlebar = this.root.find($('.ui-dialog-titlebar'));\n",
       "    titlebar.prepend(buttongrp);\n",
       "}\n",
       "\n",
       "mpl.figure.prototype._root_extra_style = function(el){\n",
       "    var fig = this\n",
       "    el.on(\"remove\", function(){\n",
       "\tfig.close_ws(fig, {});\n",
       "    });\n",
       "}\n",
       "\n",
       "mpl.figure.prototype._canvas_extra_style = function(el){\n",
       "    // this is important to make the div 'focusable\n",
       "    el.attr('tabindex', 0)\n",
       "    // reach out to IPython and tell the keyboard manager to turn it's self\n",
       "    // off when our div gets focus\n",
       "\n",
       "    // location in version 3\n",
       "    if (IPython.notebook.keyboard_manager) {\n",
       "        IPython.notebook.keyboard_manager.register_events(el);\n",
       "    }\n",
       "    else {\n",
       "        // location in version 2\n",
       "        IPython.keyboard_manager.register_events(el);\n",
       "    }\n",
       "\n",
       "}\n",
       "\n",
       "mpl.figure.prototype._key_event_extra = function(event, name) {\n",
       "    var manager = IPython.notebook.keyboard_manager;\n",
       "    if (!manager)\n",
       "        manager = IPython.keyboard_manager;\n",
       "\n",
       "    // Check for shift+enter\n",
       "    if (event.shiftKey && event.which == 13) {\n",
       "        this.canvas_div.blur();\n",
       "        event.shiftKey = false;\n",
       "        // Send a \"J\" for go to next cell\n",
       "        event.which = 74;\n",
       "        event.keyCode = 74;\n",
       "        manager.command_mode();\n",
       "        manager.handle_keydown(event);\n",
       "    }\n",
       "}\n",
       "\n",
       "mpl.figure.prototype.handle_save = function(fig, msg) {\n",
       "    fig.ondownload(fig, null);\n",
       "}\n",
       "\n",
       "\n",
       "mpl.find_output_cell = function(html_output) {\n",
       "    // Return the cell and output element which can be found *uniquely* in the notebook.\n",
       "    // Note - this is a bit hacky, but it is done because the \"notebook_saving.Notebook\"\n",
       "    // IPython event is triggered only after the cells have been serialised, which for\n",
       "    // our purposes (turning an active figure into a static one), is too late.\n",
       "    var cells = IPython.notebook.get_cells();\n",
       "    var ncells = cells.length;\n",
       "    for (var i=0; i<ncells; i++) {\n",
       "        var cell = cells[i];\n",
       "        if (cell.cell_type === 'code'){\n",
       "            for (var j=0; j<cell.output_area.outputs.length; j++) {\n",
       "                var data = cell.output_area.outputs[j];\n",
       "                if (data.data) {\n",
       "                    // IPython >= 3 moved mimebundle to data attribute of output\n",
       "                    data = data.data;\n",
       "                }\n",
       "                if (data['text/html'] == html_output) {\n",
       "                    return [cell, data, j];\n",
       "                }\n",
       "            }\n",
       "        }\n",
       "    }\n",
       "}\n",
       "\n",
       "// Register the function which deals with the matplotlib target/channel.\n",
       "// The kernel may be null if the page has been refreshed.\n",
       "if (IPython.notebook.kernel != null) {\n",
       "    IPython.notebook.kernel.comm_manager.register_target('matplotlib', mpl.mpl_figure_comm);\n",
       "}\n"
      ],
      "text/plain": [
       "<IPython.core.display.Javascript object>"
      ]
     },
     "metadata": {},
     "output_type": "display_data"
    },
    {
     "data": {
      "text/html": [
       "<img src=\"data:image/png;base64,iVBORw0KGgoAAAANSUhEUgAAAoAAAAHgCAYAAAA10dzkAAAgAElEQVR4Xu2df5RfZX3n30ySyShkiInijJJscWUgPQ20WNoKXRLpavAMdneP/eUvcnRbIZKUSgjaUIVajQQmYxUh0vbgFta12+M/PZpTolUSTmHtRtPirBIiopBgYjFAZkQTYpI9N/nOZH58f9x7P8+997nP85pzOMdjns9zn+f1fO79vu7zPPfe08QfBCAAAQhAAAIQgEBUBE6Lqrd0FgIQgAAEIAABCEBACCBJAAEIQAACEIAABCIjgABGNuB0FwIQgAAEIAABCCCA5AAEIAABCEAAAhCIjAACGNmA010IQAACEIAABCCAAJIDEIAABCAAAQhAIDICCGBkA053IQABCEAAAhCAAAJIDkAAAhCAAAQgAIHICCCAkQ043YUABCAAAQhAAAIIIDkAAQhAAAIQgAAEIiOAAEY24HQXAhCAAAQgAAEIIIDkAAQgAAEIQAACEIiMAAIY2YDTXQhAAAIQgAAEIIAAkgMQgAAEIAABCEAgMgIIYGQDTnchAAEIQAACEIAAAkgOQAACEIAABCAAgcgIIICRDTjdhQAEIAABCEAAAgggOQABCEAAAhCAAAQiI4AARjbgdBcCEIAABCAAAQgggOQABCAAAQhAAAIQiIwAAhjZgNNdCEAAAhCAAAQggACSAxCAAAQgAAEIQCAyAghgZANOdyEAAQhAAAIQgAACSA5AAAIQgAAEIACByAgggJENON2FAAQgAAEIQAACCCA5AAEIQAACEIAABCIjgABGNuB0FwIQgAAEIAABCCCA5AAEIAABCEAAAhCIjAACGNmA010IQAACEIAABCCAAJIDEIAABCAAAQhAIDICCGBkA053IQABCEAAAhCAAAJIDkAAAhCAAAQgAIHICCCAkQ043YUABCAAAQhAAAIIIDkAAQhAAAIQgAAEIiOAAEY24HQXAhCAAAQgAAEIIIDkAAQgAAEIQAACEIiMAAIY2YDTXQhAAAIQgAAEIIAAkgMQgAAEIAABCEAgMgIIYGQDTnchAAEIQAACEIAAAkgOQAACEIAABCAAgcgIIICRDTjdhQAEIAABCEAAAgggOQABCEAAAhCAAAQiIxCjAP6+pGslXSjpDElzJB2bNO4XSLpD0uskPS/pryX9eWR5QXchAAEIQAACEAiYQIwC+EZJCyS9VNLfTBPARAh3S7pH0kckDUj6R0lDkj4ZcB7QNQhAAAIQgAAEIiIQowCOD+8ySV+bJoArJW2U9KpJs4J/LGmNpHMjygu6CgEIQAACEIBAwAQQwKlLwMOSlkh686Qxf72kf5Z0pqSfBJwLdA0CEIAABCAAgUgIIIBTBTBZEj5d0tsmjf/5kr4taZGkH07Li4RfMls4Fkm+0E0IQAACEIBAKATmNX7Xj4fSoSz9QABtM4CvlrQ3C3DKQgACEIAABCDgDYGzJT3tTWtKbAgCOFUAr5J027Q9gNdJWt1iD2CvpIN79uxRb2/yP/kLncD69eu1YcOG0LtJ/xoEGO+4UoHxjme8R0dHtWhRsrB3YnvXaDw9P9XTGAWwq/HgR/IQSPKEbzIFfFTSi43l38caTwF/rCF9WyRtavEU8AkBPHjwIAIYydlz/fXXa3g42SrKXwwEGO8YRvlUHxnveMY7EcAzz0zcDwGMZ9Sl5Enfz0oaX/NPJDj532+Q9KCkX5J0V+M9gAclbZb0Fy0AIYAxZY4kfiDiGnDGm/GOi0A8vUUApRhnAF1mOALokmYN6tq6datWrFhRg5bSRBcEGG8XFOtTB+Ndn7GythQBRACtOYQAWgkSDwEIQAACECiZAAKIAFpTDgG0EiQeAhCAAAQgUDIBBBABtKYcAmglSDwEIAABCECgZAIIIAJoTTkE0EqQeAhAAAIQgEDJBBBABNCacgiglSDxEIAABCAAgZIJIIAIoDXlEEArQeIhAAEIQAACJRNAABFAa8ohgFaCxEMAAhCAAARKJoAAIoDWlEMArQSJhwAEIAABCJRMAAFEAK0phwBaCRIPAQhAAAIQKJkAAogAWlMOAbQSJB4CEIAABCBQMgEEEAG0phwCaCVIPAQgAAEIQKBkAgggAmhNOQTQSpB4CEAAAhCAQMkEEEAE0JpyCKCVIPEQgAAEIACBkgkggAigNeUQQCtB4iEAAQhAAAIlE0AAEUBryiGAVoLEQwACEIAABEomgAAigNaUQwCtBImHAAQgAAEIlEwAAUQArSmHAFoJEg8BCEAAAhAomQACiABaUw4BtBIkHgIQgAAEIFAyAQQQAbSmHAJoJUg8BCAAAQhAoGQCCCACaE05BNBK0Bj/4osv6sCBA1q4cKG6u7uNtRGehQDss9CirAsC5JwLitSREEAAEUDrmYAAWgmmjJ9+4T927JhuuGGTtmx5SqOji9Tbu0eDg4s1NLRWXV1dKWulWB4CsM9DjRgLAXLOQo/YZgQQQATQemYggFaCHeJbXfiPHz+uz3zm13To0PKJGnp6tmnVqh0aHl5XcKvirv7662/X5s0XN2V/663XMSMbd3oU0vt2Ocf5Xgjy4CtFABFAa5IjgFaCHeKbXfjnzv2KXvKS/6Hnn//cjOiBgdUaGRlmObigcUlmYpcuXavdu++YdoRjmj9/UK94xX/U2NhiZmQL4h9jta1zTuJ8jzEj3PQZAUQArZmEAFoJtolvfeHfp1mzPq2jRz82I7q/f6N27lypvr6+AlsWb9X79u3TRRfdp/37b5wG4XZJvyzpjczIxpsehfS8dc5JnO+FII+iUgQQAbQmOgJoJdgmvvWF/0XNmvVuHT3abAZwjUZGNjEDWNC4NJfyFyWtlTR9VpAZmoKGIapq288Acr5HlQwOO4sAIoDWdEIArQRzzQBK8+e/WYcO3ahDh97AjFOBY9Cs6pnL8vsk/Y2kDzEjW/JYxHI49gDGMtLl9RMBRACt2YYAWgl2iG914b/mmn/Raad1acuWJzU2tkjz5u3lKeCCx2K8+lMP5pxkf8YZT+qZZw622JPJDE1JwxL0YabnHOd70MNdSucQQATQmmgIoJVgh/hOF/5keejZZ5/VggULWPYteCymVz+Z/Qc/+MmWTwbzlGbJAxPw4WI/33kPorvkRgARQGs2IYBWginjY7/wp8RUWbFOol5ZwzgwBAIgwHsQ3Q8iAogAWrMKAbQSJD4oAoh6UMNJZzwhwB5I9wOBACKA1qxCAK0EiYcABCAAgZYEeA9iMcmBACKA1sxCAK0EiYcABCAAgZYEeA9iMcmBACKA1sxCAK0EiYcABCAAgZwzgDxlnzd1EEAEMG/ujMchgFaCxEMAAhDwnEDVT9+yB9B9giCACKA1qxBAK0HiIQABCHhKwJenb3nK3n2CIIAIoDWrEEArQeIhAAEIeErAt5k3nrJ3lygIIAJozSYE0EqQeAhAAAIeEuDpWw8HxWGTEEAE0JpOCKCVIPEQgAAEPCTA07ceDorDJiGACKA1nRBAK0HiIQCBSghU/WBD3k6X1e72M4A8fZt3/HyJQwARQGsuIoBWgsRDAAKlEvDlwYasna6i3b7tAczKjPKtCSCACKD1/PBGAMu6K7YCIx4CEKiWQF2lpqh2t7t28vRttbla5NERQATQml+VC2AVd8VWaMRDAALVEEj7YINvN5Rp252FapZrJ0/fZiFbj7IIIAJozdTKBbCou2IrGOL9IeDbj7k/ZOJrSbsHG04//UPatetqDQ9/Xlu2PKXR0UXq7d2jwcHFGhpaq66urtKATc/ZIh7I4NpZ2nB6eSAEEAG0JmalAljEXbEVCPH+EMgyw+FPq2lJkQTaXTOk/64LLzyoxx5brUOHlk80o6dnm1at2qHh4XVFNu1E3a1ydsOGNbrwwnXavfuOGW0YGMj+QAbXzsKH0vsDIIAIoDVJKxXAIu6KrUCI94cAMxz+jIVPLbnuulv1qU9dJOlNk5q1TdIOzZmzQ0eO/E9J3VOaPDCwWiMjw+runvr/u+5Xu5xNjrV588VO5JRrp+uRq199CCACaM3aSgXQ9WsKWCq0poM/8cxw+DMWvrXk6aef1sDA+/XTn54laZGkvZIWS0qWeT+sY8dWS+qb0uz+/o3auXOl+vqm/v8u+9YpZx95ZEjr19+hLVue1NjYIs2btzf38rTra6dLDtRVDgEEEAG0ZlqlApg03sUsD0uF1jTwL54ZDv/GpKgWZb1xOyU/myQ9K2nBxIzfnDm/12IGMPsya9b+ps1ZVw9kuLh2Zu0j5f0hgAAigNZsrFwAXbymgAuhNQ38i2eGw78xcd0iy41bq3N+yZLNevTRVU6WWbP2t4ic5RUvWUchnvIIIAJozfbKBXC8A3nvijstu5Sx78c6CMQ3J4DYh50ZlvFtdeN4223v1403fsLJMmse+pY+TT5eFjnOe+3M07/QY7LORlfJAwFEAK35540A5u1I2mWXvPUTVx0BF7PD1bWeI7cj4OrGrZX8VCVFrnLWlUiShekIZBHudDUWXwoBRACtWVZ7ASxi2cUKNeT4Ku6Qq/oxD3kcq+5b6Ddulpx1JcdVj3Gdjl9H4UYAEUDrOVZ7AUwA1PHktQ5c2fF1vEMumxHHS0+AG7fWrEKX4/RZUk7Jugo3AogAWs+QIATQ1bKLFWbI8Uh2yKNbTd/IqebckeNy87Guwo0AIoDWMyUIARyHYFl2sYIMOb6ud8ghj0kIfePGrfUoIsfuM7zV9pW6CjcCiABaz5KgBNAKI4b4PHv46nqHHMN4htBHbtxmjiJy7C6z02xfqaNwI4AIoPUsQQCtBGsSn+Yi2Koree6Q84hmTVDSTAiURgA5tqNOI3d1FG4EEAG0nh0IoJVgTeLTXATbdSVtvEU0a4KSZkIAAjUhkHX7Sp2EGwFEAK2nIQJoJViD+KwXwWZdSnuHnFYUa4DNeROZFXWOlAoh0JZAyNtXEEAE0Hr6I4BWgjWId3kRbHeH7EI0a4AzcxOZFc2MjAAIOCGQZ/uKkwOXUAkCiABa0wwBtBKsQXxZF0GXolkDrKmbyKxoalQUhIBzAqGefwggAmg9WRBAK8GaxJdxESxLNGuC/EQzmRWt02jR1hAJpN2+Ure+I4AIoDVnEUArwRLiXewdK+siWIZoloDc2SGYFXWGkoogYCJQpwc80nQUAUQA0+RJuzIIoJVggfFF7B0r+iJYlmgWiN1p1cyKOsVJZRCAQIMAAogAWk8GBNBKsMD4Os+mFS2aBWJ3XnWdx9E5DCqEAAScEEAAEUBrIiGAVoIFxbN3rCCwFVTLrGgF0DkkBAIngAAigNYURwCtBAuKZ+9YQWBzVutiHyazojnhEwYBCMwggAAigNbTAgG0Eiwonr1jBYHNWG0R+zAzNoHiERFwcaMREa6ou4oAIoDWEwABtBIsML7svWP8+MwczLLHoMB0omqPCXCj4fHgeNo0BBABtKYmAmglWGB8WXvH+PFpPojswywwual6CgFuNEiIrAQQQAQwa85ML48AWgmWEF/03jF+fJoPIvswS0huDsHLwsmBXAQQQAQwV+JMCkIArQRrHp92livG5WH2YdY8uWvSfG408g1UjNekyaQQQAQw35lzKgoBtBKseXynH59vfONdGhr6nLZseUqjo4vU27tHg4OLNTS0Vl1dXTXvfefmMzvamRElbAS40cjGjy0rJ3khgAhgtjNnZmkE0Eqw5vGdfnyuuOJV+qu/er0OHVo+0dOenm1atWqHhofX1bz3nZtf1j7Mzi2hRMgEuNFIP7qwQgDHs+W09GlDySYEEEDSQq0uqO9979d1//1Pa/fuO2ZQGhhYrZGRYXV3d0dBsOh9mFFApJMtCbi40YhhSTTtlpUYUo0ZQGYArXmOAFoJBhDf6sdn7dq361d/9XPav//GGb3s79+onTtXqq+vLwACdAECfhDIc6MR05Jopy0rMV2TEEAE0HrVQgCtBAOKn/7j02l5eGRkUzQzgAENM10JjEBMS6Jck04lLwKIAFovZQiglWDB8VUv68T041LwUFI9BJwTiHFJlGvSyTRCABFA6wUFAcxAsEwZ82VZx8XepAyIKQoBCGQg0G5JtK/vY7r//iu1ZMmSoGbquSYhgOOnCA+BZLhYNCmKAKbgV4WM+XaXm2dvUgq0FIEABAwEms8AHpO0SXPm7NDCha9Tb+/eIF/dFPs1iRlAZgANl44ToQhgCoJZZMzFLGGMyzophoEiEIBAEwIzr0+3S7pI0m9NlI7p1U2xJAkCiABacx0B7EAwrYy5nCXkSTdrWhMPgXgITF4SHR3t14EDj+jIkb+fAcC3Vze5uFmOZ5Rn9hQBRACt+Y8AdiCYVsayzBJ2GjSedOtEiH+HAASmE0iuG48++qiuuOJ+7d//gRmAfHl1k8ub5ZizAAFEAK35jwCaZgDXKHkVSvK3dOlapy9MdimU1iQhHgIQqAeBOtw8cm1zk0sIIAJozaSoBDDvkkOnC1baWcIsg8WTblloURYCEBgn0Ol6VSWptFtqim5j3t+CotuVpX4EEAHMki/NykYhgNYlh04yVuRdd+xPulkTvFl8CBf/IrhQZxgEOl2vquxlETfLWfpj/S3IcqyiyyKACKA1x6IQwOZ3xA/oXe/apk9/+qbU78hqJ2M+33VbkySU+JAu/qGMScj9qPpGw8ebxyJvltPkUkjXaQQQAWyW8zdL+pCkn+okn+OSvijpHU0KBy+A7S44s2a9Xa95zXxdeeU5Ghpaq66urjTXkKZlfL7rzt2pwAJDuvgHNjRBdYcbjfbDWdV56Mvys6tkRwARwFYCmLwA6rIUiRa8ALZbcpA2Slqpnp5dWrVqh4aH16VA1r6Ij3fd5k4FUEFoF/8AhiTYLlQlOHUBWtXNctXLz67HBwFEABHADmdVux9+ac2JN+ZL3fLtHVmWi0XVS0+WthcVG9rFvyhO1GsjwI1Gen5l3yxXvfycnky6kgggAthKAG9oLAEny8APS7pJ0g9iXAJO+tzsjlzaJmmHpJOzfr68Iyvdqd+8VKxLT2mEN7SLvyVPiC2OADcaxbF1UXNIs7MIIALY7Jz4RUljkvYkXiMp+S7Qb0i6oCGFk2OCXwJOOjsuRl/60g/0xBNn6ujRBM9iSWslndz3NzBw8p1+3d3dLq4zLetIIyt5GxDSxS0Ng6zCGxufNAwp45YANxpuebqurarlZ9f9SOpDABHANHmVGM1BSW+R9E/TAk4I4LXXXjshPitWrFDyX4h/ycV5zZqP6m//9j/p8OE3TnSxjO9kZpWVrPxjXHrKKnQhXfyz5gflyyOQNS/LaxlHGidQ9vKzK/Jbt25V8l/yl/ThzjvvTP7nmYkPujpGnepJnnLlrz2BcQH8bUlfaSaABw8eVG9v4oLh/1UlAUX/KMS29GQR3rpe/MM/O8PoYVXXmDDo0Yu0BJgBZAawWa78rqSvSTog6ZWNJeDfTL5WJumF2AWwijtAi6ykvRiEvvQ0fek8NuFNmweU84cANxr+jEWILUEAEcBmef0PjT1/p0t6TtKDjfcCPtGkcBR7AKs++cuSlaJnGavg2GrpfMOGNbrwwnUtvr9czn7OKnhwTAhAAAIJAQQQAbSeCQiglWCK+LJm50JcemontQn6zZsv1qFDyydGoYz9nCmGnCIQ8IZAkQ+eedPJCBuCACKA1rRHAK0EU8aXOTsXytJTp6XzRx4Z0vr1d2jLlic1NrZI8+bt1eDgYvNXXVIOKcUg4DWBoh8887rzETQOAUQArWmOAFoJpowPcXYuZddzF0u7dB6K8OYGRaBzAiHMmpV50+l8AKiwIwEEEAHsmCQdCiCAVoIZ45GV9MDKWjpP3yJKhk4glFmzTrPnIyPDhb/zNPRcqbp/CCACaM3BSgUwhLts6wAQ356A61kMco6Ma0fAdb5VRTvt7HlV7eO4dgIIIAJozaJKBDCUu2wrfOI7E3C1dE7OdWYde4mQZs2YPT+ZzSHf8CGACKD1ml2JABZ1lx3yyW4d6LrHW5fOi8q5unOl/acI1HHWrN01L+acj+GGDwFEAK3X79IFsIi77BhOdutAxxxfRM7FzDPUvtdp1izNNc/V7HkdxzsG+UUAEUDruVm6ABZxlx3DyW4d6Jjji8i5mHmG3Pe6XEuytNM6e1638Y7lhg8BRACt52bpAuj6LjuWk9060DHHu865mFmG3vc6zJpxzWufhbHc8CGACKD1ely6ACYNznL32qmDsZzsnTjw7+0JuMw5WIdPwOdZM6557fMvlhs+BBABtF6JKxFAl3fZsZzs1oGOPd5lzsXOkv67IZD3oTWueZ35x3DDhwAigJ3PhPYlKhHA8Sa5usuO4WS3DjTxJwm4yjl4uiOQV4TctaDcmtI8wNGpRVzz2hOK4YYPAUQAO10nOv17pQLYqXFp/z2Gkz0tC8pBoC4EXIhQXfo6uZ0u5I1rXrqRD/mGDwFEANOdBa1L1U4A280WhHyyWweaeAj4RsCFCPnWp07tcf0AB9e8TsTD/XcEEAG0ZndtBDDW2QLrAKeNj20ZLi0XyhVDwLUIFdNK97XG+gDHkSNH9NBDD+nH+36sl/e/XJdeeqnmzJnjHnBENSKACKA13WsjgDHOFlgHN008Yp2GEmVcE4hVhDo9wPHNb35cY2NjWrhwobq7u11jL72+RPw23LBBu768S0u+v0TzD8/X83Of16PnPKrz3nSebhq6CRHMOSoIIAKYM3UmwmohgLHOFlgHN008Yp2GEmVcE+gkQiMjm4IQoGbcmp9zD2jJks/ohRfO0ujoIvX27tHg4GINDa1VV1eXa/yl1JfI33uueI+WPbhMr/35a2cc8/HZj2v7Zdt1z/33IIE5RgQBRABzpM2UkFoIYKyzBdbB7RSPWHcixL8XSSDWm49mD3Ccfvq/6zvfuVqHD18+gbynZ5tWrdqh4eF1RQ5DYXXfct0tOvuus5vK3/hBEwl8+tqndfNf3lxYO0KtGAFEAK25XQsBjHm2wDrA7eIR6yLpUncnArE/yTr+AMcZZ5yh173uT7V79x0zkA0MrNbIyHDtZkOT2b+rLrhKV++6ulMa6O7z79a937qXWcCOpKYWQAARwIwpM6N4LQQwaXWsswXWAW4Xj1gXSZe60xII/UnWTg9YhXgjtm3bNj14xYO67PBlHdNg+9ztWr51uZYtW9axLAVOEUAAEUDr+VAbAYx9tsA60K3iEeuiyFJv7ATSPmAV4o3YFz7/Bf3w7T/UBbqgYxo8okd09ufP1lv/4K0dy1IAAZycA6eRECYCtRHA8V6GPltgGs0cwYh1DmiEQCAFgSw3V1nKpjh05UWYASx+CJgBZAbQmmW1E0Brh4lvTgCxJjMg4I5A1gesQrsRy7oH8L6R+zR79mx3AxBBTQggAmhN86gFsNPeHCvcLPE+tSVLuykLgU4EYsztvPv6Elb79+/X8ePH1d/fX7uHPybnAk8BdzozbP+OACKAtgySohTAtHtzrHDTxPvUljTtpQwE0hKIObfz7OsLjRfvAUx7puQrhwAigPky51RUlALo034bn9piTSbiITCZQOy53az/c+d+RVdd9aA+/ekPzZjdC5HXiS+BrNugx778mM574ryJL4HsOmeXzl9xvtbfvp7Xv+S8bCCACGDO1JkIi04As+7NsQJuF+9TW4rsJ3XHR4Dclibv6xsdfbUOHXpQ0gL19Fyg3t69U770ETqvRAQffvjhiW8BX3LJJUGIX5XbGxBABND6yxKdAObdm2MF3Szep7YU0T/qjJcAuX1q7BNJWLNmg+69d5kOHXrDxD9M/tKHb7yqFJs6nDU+LNcjgAig9VyJTgDz7M2xQm4V71Nbiuoj9cZJgNyeKoBLl65t+6WPpHTrMmtU1reRfRCbOpwxPizXI4AIoPVciU4AE2A+nLzjA+dTW6zJRDwEJhMgt0/SSDu75wMvH9rg+1nky3I9AogAWs+VKAXQxTu3kj0tDz300MSelksvvTTXnhYXbbEmAfEQKIJAntwOcekx7WxoHl4ux80XsXHZpyLqSiv0RRx7cp0IIAJozbEoBXAcWp6XH594qu2GDdr15V1a8v0lE0+1PXrOozrvTefppqGbcolgnrZYB594CJRBIE1ud1p6rLsYZplZS8OrCB7txKav71bdf/+btWTJklq/m9BFvqcVehfHalcHAogAWnMsagHMCo/3WmUlRnkIpCPQSpCuueb/6rTTTtOWLU9pdHSRenv3THl6Nl3t1ZdyNbvXSZQtPW0nNnPm/J4WLPhlnXnmvkr5FyG+eZhlEfo89aeJQQARwDR50q4MApiBIG+2zwCLohBISaCdeMyf/3b97Gfv1uHDb5yobfLTsykP4U2xNLN77RpbtHg0q1/6qqSdktadaFoV/IsU3zzJ4Uro8xx7PAYBRAAt+ZPEIoApCWb9tuW937o311JwyuZQDALBEGi39Dhr1nodPfrHkvqm9HdgYLVGRoajWo4sY4/e1HcXnq0DB3bqyJGLJa2V1DUxBmXzL1p8855MVqHPe9wkDgFEAC35gwBmoLdt2zY9eMWDuuzwZR2jts/druVbl2vZsmUdy8ZUwJflm5iY16Gv7cRm1qx36OjRz0rqntKV/v6N2rlzpfr6pophHfqbt41lPnyQjMmjjz6qFSu26Ec/Wj+jyWXyL0N8845JlXEIIAJozT9mADsQHJeWbf+0Tc9c9Ywu0AUdmT+iR3T258/WW//grR3LxlDAt+WbGJjXrY/NZ3geUE/PbXr++X+c0Z2BgfLejecLy7IfPij7eK04lym+vox1mnYggAhgmjxpVwYBbEFnurTMnv1/9O59F+jyo6fe5N8KLDOAU8n4unxjPXmId0eg1Z6q48eP6TOf+XUdOrR84mBV7EFz11NbTWWfS2UfrxkdX0TUNnLuoxFABNCaVQhgC4IzL3xH9Cun/Y6Gj7+/I/O7z79b943cp9mzZ3cs62sBV8u1LN/4OsJ+tmv6niofNtv7RKpsHmUfrxVrH0TUpzxI2oIAIoDWnEQAmxBsJS0v0y3aoFfpfBrf2UoAACAASURBVA205P747Mf19LVP6+a/vNk6NpXEu16uZfmmkmEM7qBVbrb3EWbZPMo+3nTmvoioT7mAACKA1nxEAJsQbC0tR/QL3b+l9cfepXN/fu6MyET+tl+2Xffcf09tnwB2fafN8o31FCUeAhAYJ1C1iPo0EgggAmjNRwQwwwxgUvTcc9+nt614hb771e/qvCfOm/gSyK5zdun8Fedr/e3rayt/RS3XupZKa9ITDwEIQKDuBBBABNCawwhgC4KdpCV5L+DDDz888S3gSy65pLbiN46gqOValm+spynxEIAABKYSQAARQOs5gQC2IBijtBS9XMvyjfV0JR4CEIDASQIIIAJoPRcQwA4EY5OWTjOf1oQjHgIQgAAE7AQQQATQmkUIoJVgYPExznwGNoR0BwIQiIAAAogAWtMcAbQSDDQ+tpnPQIeRbtWYgKt3cdYYAU1vQwABRACtJwgCaCVIPAQgAAGHBFy/i9Nh06jKIwIIIAJoTUcE0EqQeAhAAAIOCcS2D5eZznzJgwAigPky51QUAmglSDwEIAABRwSKeheno+Y5rYaZThtOBBABtGWQhABaCRIPAQhAwBGBot7F6ah5TquJbabTKTxeA3MC52muoUZWHwIY2YDTXQhAwF8CRb+L05eexzTTWRRzZgARQGtuIYBWgsRDAAIQcEgghpmxmGY6HabGlKoQQATQmlsIoJUg8RCAAAQcEojhXZyxzHQ6TIsZVSGACKA1vxBAK0HiIQABCBRAIPR3ccYw01lAWkxUiQAigNb8QgCtBImHAAQgAIHMBGKY6cwMJUMAAogAZkiXpkURQCtB4iEAAQgERKDs9/KFPtNZVGoggAigNbcQQCvBwOPL/jEIHCfdg4C3BHgvn7dD07RhCCACaM1YBNBKMNB4fgwCHVi6BYEWBNiTV6/UQAARQGvGIoBWgoHG82MQ6MDSLQg0IcB7+eqXFgggAmjNWgTQSjDAeH4MAhxUugSBNgR4L1/90gMBRACtWYsAWgkGGM+PQYCDSpcg0IYA7+WrX3oggAigNWsRQCvBAOP5MQhwUOkSBDoQYNtHvVIEAUQArRmLAFoJBhrPj0GgA0u3INCCAO/lq1dqIIAIoDVjEUArwUDj+TEIdGDpFgQ6EOC9fPVIEQQQAbRmKgJoJRh4PD8GgQ8w3YMABGpJAAFEAK2JiwBaCRIPAQhAAAIQKJkAAogAWlMOAbQSJB4CEIAABCBQMgEEEAG0phwCaCVIPAQgAAEIQKBkAgggAmhNOQTQSpB4CEAAAhCAQMkEEEAE0JpyCKCVIPEQgAAEIACBkgkggAigNeUQQCtB4iEAAQhAAAIlE0AAEUBryiGAVoLEQwACEIAABEomgAAigNaUQwCtBIn3mkDyHsMDBw5o4cKF6u7u9rqtNA4CEIBAWgIIIAKYNldalUMArQSJ95LAqS+ZPKXR0UXq7d2jwcHFGhpaq66uLi/bTKMgAAEIpCWAACKAaXMFAbSSIr5WBPiWca2Gi8ZCAAIZCSCACGDGlJlRnBlAK0HivSOQLPsuXbpWu3ffMaNtAwOrNTIyzHKwd6NGgyAAgSwEEEAEMEu+NCuLAFoJEu8dgX379umii+7T/v03zmhbf/9G7dy5Un19fd61mwZBAAIQSEsAAUQA0+ZKq3IIoJUg8d4RaD8DuEYjI5uYAfRu1GgQBCCQhQACiABmyRdmAK20iK8NAfYA1maoaCgEIJCDAAKIAOZImykhzABaCRLvJYFTTwE/qbGxRZo3by9PAXs5UjQKAhDIQwABRADz5M3kGATQSpB4rwkky8HPPvusFixYwLKv1yNF4yAAgSwEEEAEMEu+sARspUU8BCAAAQhAwAMCCCACaE1DZgCtBImHAAQgAAEIlEwAAUQArSmHAFoJEg8BCEAAAhAomQACiABaUw4BtBIkHgIQgAAEIFAyAQQQAWyXcn8u6Q8lJZL3TUnXSvr2tAAEsOSTlsNBAAIQgAAErAQQQASwVQ6tk7Ra0pslfU/SzZKukjQg6aeTghBA61lIPAQgAAEIQKBkAgggAtgq5Z6QNCzp040CsyT9UNL1kj6HAJZ8pnI4CEAAAhCAgEMCCCAC2Cydklm95yW9XtK/TCqwVdKIpBsQQIdnIVVBAAIQgAAESiaAACKAzVLubElPSVoi6bFJBf5O0qik9yKAJZ+pHA4CEIAABCDgkAACiAA6mQG89tprJ76SsGLFCiX/8QcBCEAAAhCAgD8Etm7dquS/5C/5ytGdd96Z/M8zG5M7/jS0pJacVtJx6naYZnsA90l6P3sA6zaUtBcCEIAABCAwlQAzgMwAtjonkn1+yVPAg5ISGfywpHdKOo+ngLmMQAACEIAABOpNAAFEANtl8C2SrpY0T9I3eA9gvU92Wg8BCEAAAhAYJ4AAIoDWs4H3AFoJEg8BCEAAAhAomQACiABaUw4BtBIkHgIQgAAEIFAyAQQQAbSmHAJoJUg8BCAAAQhAoGQCCCACaE05BNBKkHgIQAACEIBAyQQQQATQmnIIoJUg8RCAAAQgAIGSCSCACKA15RBAK0HiIQABCEAAAiUTQAARQGvKIYBWgsRDAAIQgAAESiaAACKA1pRDAK0EDfHJp3wOHDighQsXTnyKz1AdoRCAAAQgEAkBBBABtKY6AmglmCP+2LFjuuGGTdqy5SmNji5Sb+8eDQ4u1tDQWnV1deWokRAIQAACEIiJAAKIAFrzHQG0EswRf/31t2vz5ot16NDyieienm1atWqHhofX5aiREAhAAAIQiIkAAogAWvMdAbQSzBifLPsuXbpWu3ffMSNyYGC1RkaGWQ7OyJTiEIAABGIjgAAigNacRwCtBDPG79u3TxdddJ/2779xRmR//0bt3LlSfX19GWulOAQgAAEIxEQAAUQArfmOAFoJZoxvPwO4RiMjm5gBzMiU4hCAAARiI4AAIoDWnEcArQRzxLMHMAc0QiAAAQhAYIIAAogAWk8HBNBKMEf8qaeAn9TY2CLNm7eXp4BzcCQEAhCAQKwEEEAE0Jr7CKCVoCE+WQ5+9tlntWDBApZ9DRwJhQAEThHg/aJxZAMCiABaMx0BtBIkHgIQgIAHBHi/qAeDUGITEEAE0JpuCKCVIPEQgAAEPCDA3mIPBqHEJiCACKA13RBAK0HiIQABCFRMgPeLVjwAFRweAUQArWmHAFoJEg8BCECgYgK8X7TiAajg8AggAmhNOwTQSpB4CEAAAhUT4P2iFQ9ABYdHABFAa9ohgFaCxEMAAhDwgAB7AD0YhBKbgAAigNZ0QwCtBImHAAQg4AEB3i/qwSCU2AQEEAG0phsCaCVIPAQgAAGPCPB+UY8Go8CmIIAIoDW9EEArQeIhAAEIQAACJRNAABFAa8ohgFaCxEMAAhCAAARKJoAAIoDWlEMArQSJhwAEIAABCJRMAAFEAK0phwBaCRIPAQhAAAIQKJkAAogAWlMOAcxBkI+t54BGCAQgAAEIOCOAACKA1mRCADMQ5GPrGWBRFAIQgAAECiOAACKA1uRCADMQ5EWrGWBRFAIQgAAECiOAACKA1uRCAFMS5GPrKUGlKMYSegpIFCmVADlZKm4O5oAAAogAWtMIAUxJkI+tpwTVplieJXR+mO3cqaE1gTw5CU8I+EAAAUQArXmIAKYkyMfWU4JqUyzLEjo/zHbe1NCZQJac7FwbJSBQHgEEEAG0ZhsC2IJgs5knfizyp1vWJXRY52dNZDoCWXMyXa2UgkA5BBBABNCaaQjgNILtZp6SojfcsElbtjypsbFFmjdvrwYHF2toaK26urqsYxF0fJYldH6Yg04FbzqXJSe9aTQNgUCDAAKIAFpPBgRwGsE0M098bD172mVZQueHOTtfIrITyJKT2Ws/FcE+Vgs9YlsRQAARQOvZgQBOIsjMkzWd2senkeukhrJ+mIvtLbXXgUDanMzTF/ax5qFGTFoCCCACmDZXWpVDACeRKWrmyacZgCrbcuoHsfMSepE/zNaThvhwCGTJyay9JoezEqN8FgIIIAKYJV+alUUAU88ArtHIyCZ1d3enZu7TDIBPbUmzhF7kD3PqAaRgbQlkvdFJk5NZYLCakIUWZfMQQAARwDx5MzkGAZxG0OVdu8u6rAPtU1uy9MX1D3OWY1O2fgR8udEpajWhfiNCi4sigAAigNbcQgCnEXQ18+TTDIBPbbEmLPEQaEfAlxudGPexZp11JZNtBBBABNCWQRIC2IKgdebJpxkAn9piTVjiIdCKgG83Or7IaNEZ48usa9H99K1+BBABtOYkAmgl2EYgly5dq92775hRYmAg+35CSzNjnI2w8CK2ngR8u9FxtZrg+2jEIrq+jQMCiABacxIBtBJsE+/ThdGnthSInKojJuDrjY51NcHnIfVt1tVnVq7bhgAigNacQgCtBNvE+zQD4FNbCkRO1ZET4Ean3ATwbda13N5XezQEEAG0ZiACaCWYIt6nGQCf2pICHUUgkImAbzc6oT8Y4dusa+i8J58MCCACmOni2KQwAmglSDwEIOAdgapvdGJ6MMKHWdeYeI+fbAggAmi98CKAVoLEQwACEJhGwAcpKmtQfJh1jYk3Angqs08rK8kDPQ4CGOjA0i0IQKA9gaKWC2N9MKLZrGtRjCePbKy8mQFkBtB6jUcArQSJhwAEakWg6OVCHoyQimY8OeFi5Y0AIoDWCy8CaCUYeXwZd/iRI6b7jgkUvVzo24MRjvGlqq5oxulnAMt952oqOI4KIYAIoDWVEEArwUjjy7zDb4YY8Yw08YzdLmu5sEwBMiJxHl4W48kNj5E3AogAWk9eBNBKMNL4qi64VYtnpMMdTLfLWi704cGIqgatLMaT+xcjbwQQAbSe4wiglWCE8VXc4Y9jrko8IxzmILtc9vJs1a+jqWIQy2Y8fTn42Wef1YIFC9Td3V1F90s7JgKIAFqTDQG0Eowwvoo7/ARzleIZ4TAH22VuIoofWhgXzxgBRACtWYYAWgnWIN71frmq7vCrEs8aDDFNzEAgxuXCDHicFPWZsevroRNgOSpBABHAHGkzJQQBtBL0OL7I/XJV3OFXJZ4eDzFNMxCIcXnWgCtXqE+Mi7we5oJjDEIAEUBjCgkBtBL0OL5ISavqDr/IPnk8lDQNAjMIhDKTVdbQhnbtQAARQOu5gwBaCXoaX9Z+ubLv8KsST0+HmWZFSCC0mawyhrCs62EZfRk/BgKIAFrzDQG0EvQ0PvT9cmnFk1kSTxOUZuUmENpMVm4QGQJDvB4igAhghlOgaVEE0ErQ03jX++XqJlLMkniamDTLRCDEmSwTkJTBrq+HKQ9baDEEEAG0JhgCaCXocbyLmYK6ipSLvns8tDQtUgIhzmSVNZShXRMQQATQeu4ggFaCHse72C9Xx4smsyQeJyVNMxEIcSbLBCRDsIvrYYbDFV4UAUQArUmGAFoJ1iA+zX65Zku8dRUpZklqkJQ0MTeBOt6U5e5sAYFprocFHNZ5lQggAmhNKgTQSrDm8e2WeH/0ox/poovu0/79N87oZX//Ru3cuVJ9fX3eEWCWxLshoUEOCYQ2k+UQTVRVIYAIoDXhEUArwZrHt5tNuPXW67R06Vrt3n3HjF4ODKzRyMgmb7+3ySxJzROT5nckEMpMVseOUqApAQQQAbSeGgiglWCN49Ms8X7wg5/U5s0X69Ch5RM97enZplWrdmh4eJ23vWeWxNuhoWEQcE6gbm8pcAEAAUQArXmEAFoJ1jg+zV65s846SzfcsElbtjypsbFFmjdvrwYHF2toaK26urq87z2zJN4PUVANjFFEihrANCzr+pYCF8wQQATQmkcIoJVgjeOz7JVDpGo80DS9cAIxi4hruFlYxrzVAwFEAK3nHgJoJVjz+JgvoDUfOprvEQHOI3eDkZZlmi0s3d3d7hrmWU0IIAJoTUkE0EqwwPg0SyDWw7NXzkqQ+NgJhCoiZVx/pudOFpZptrD4+JYCV+cLAogAWnMJAbQSLCA+yxKIq8OzxOuKJPXERiA0Eani+jOeM1lYZtnCEmJOIoAIoDWvEUArwQLi0y6BFHBoqoQABDISCE1Eqrz+ZGVZZVszponz4gggAmhNKgTQStBxfJYlkKyHrmJJJ2sbKQ+BOhIIRUSKvP6kHdcsLGPewoIAIoBpz6lW5RBAK0HH8VmWQNIeusolnbRtpBwE6kwgFBEp4vqTdVzzsIxxCwsCiABmPbeml0cArQQdx2ddAklz+Cx31GnqowwEINCcQN1FJO/1p4jVhbqzLPocQQARQGuOIYBWggXEuxQ2H5Z0CkBElRCAQEEEslx/WF0oaBBSVIsAIoAp0qRtEQTQSrCA+DxLIK2a0WlJ5+tff5vmzJmjhQsXFv5d3yJmCQrAT5UQKIxAHc6BLNefLLJYGNRIK0YAEUBr6iOAVoIFxrtYAmk3Azh//jv0ilecqbGxX1Bv757CPvHGLEGBSULVtSBQx3Og0/WH1YVqUw8BRACtGYgAWgnWIL7ZXfqsWV+R9EUdPfqpiR709GzTqlU7NDy8zmmvmCVwipPKakggxHOg0+rCzp0rFfKLmKtOQwQQAbTmIAJoJViD+OlLOmecsUfPPPM9Pf/8FkldU3owMLBaIyPDzpaDmSWoQYLQxEIJhHoO5H1gpFDYEVWOACKA1nRHABsE67A3xzrY40s6Y2NjuvTSv9Uzz3xY0tRvZfb3b5TLO3dmCayjRnzdCYR8DoQ4s1mXfEMAEUBrrkYvgHXcm5N30Mf7+qUvPaknnjhTR4+OSlosae3ETODAwBqNjGwqaQbQ7bHyciEOAkUSCHmmLMsDI0UyjrFuBBABtOZ99AIY0x1ss75K2yTtkLRO7AG0nk7EQ6A5gdCvM50eGCEv3BNAABFAa1ZFLYCh7s1plhTt+jpr1tv1mtfM15VXnqOhobXq6pq6L9CaZHWbJYhhO4B1TInPRqBu50C23lG6CgIIIAJozbuoBTDkvTnTE6NdX886a4N27HinFi9OloOL+/N9liCm7QDFjTI1tyPg+znA6NWHAAKIAE7P1mWSHpD0k8Y/nCbpucZGr2aZHbUAhrw3Z/pgx9TXpO95ZvFCX6arz08bLYUABDoRQAARwGYC+DVJsyUd75RAkqIWwIRPlh/9PFKRYgxKK5Klr6U1yvGB8s7ixbQdwDFyqoNARwJ1v3Z27GAFBRBABLCVACbv9jiaIiejF8A0e3PySkUK/qUWSdPXUhtUwMHySm5M2wEKwE6VjgmEIkyhXDsdD6+T6hBABLCVAO6VNFfSiKS/kPRgi4yLXgDHubTbm5NXKqxneVE/AqHuQ7LM4sW2RG7NTeKLIRCaMFV17SxmdPyqFQGMRwA/K2llY1k32dc3/S95l8flkl4p6SxJ35b0EknXSPqopF+X9K0mcV4KYFHik+f0tUhFnuMlMaH9COTlkDXOOovHj1VW4pR3TSBNDvp0fWzX/yquna7Hw+f6EMB4BPClknraJOMRSWMt/j3ZE/iwpD9rJYDXXnvtxIt/V6xYoeS/Kv58FB+rVOThmOZHIE+9ocdYZ/FiWCIPPQfq3L9OwvTII0Nav/4ObdnylEZHF6m3d48GBxcX8uomFxyruHa6aLfPdWzdulXJf8lfki933nln8j/PlJS81T+6v2azYdFB6NDhr0r6uqSbWgngwYMH1dubTAZW++ej+FilIivRTj8CLr/Tm7VtdSjvIodCXSKvw/jF3MZOwvSWt7yge++9XIcOLZ/AVNTL212MQ9nXThdtrlMdzADGMwOYNi/fJGm3pCcbM4ZXS/q4pEsl7fRZAH0WHxdSkXYAO/0IuPxOb9o21akcs3h1Gi3aOplAu2vgueeuTjaH6LvfvWsGtIGB1SrixtDFUnOZ187YsgkBRACn53yyzPtHkhZI+lnjIZCPSNre4uTwZg+gz+JTplRw1+zmMs4snhuO1FIugVbC9K53PaAvfvF07d9/44wG9fdvlMsbQ5dbccq8dpY7UtUfDQFEAK1Z6I0AViE+We9wy5IKl3fNWftoTSjiIQCB/ASmC9MZZ+zR8uULT+zzu/jim7R79x1NZgDXaGRk08Q+7vxHPxlpvf40u+aUde209r1O8QggAmjNV28E0MWFJy0Ml3e4aY+ZpZyLu2bf+5iFB2UhEBuBQ4cO6brrNuiBB36ssbFfOPHAx+mn/7u+852rdfhw8sKHk3+u9wBatuJwzSk3SxFABNCacV4JoAvxSQPEeoeb5hguyljumuvSRxec8tbB7GhecsQVTaD5+fuAliz5jF544RUaG1ukefP2On8K2LIVh2tO0VkxtX4EEAG0ZpxXAjjeGYv4dAJiucPtVLcv/x5DHy2smamw0CO2aAKdzt9vfvNW/eQnP9GCBQucLftOvvYuXbo281JzpzYX8ZBK0ePge/0IIAJozVEvBdDaqXbxljvcItvlsu6697HomTlmKlxmG3W5JlD1+Zvn/Ki6za7HoA71IYAIoDVPoxPAKh42sQ5S1vi69rGMmTlmKrJmE+XLJlD1+ZtnK07VbS57jHw4HgKIAFrzMDoBTIDlucO1gi47vo59LKPNzFSUnYkcLyGQdVa7jHOh08hk3YrjQ5s79Smkf0cAEUBrPkcpgHnucK2gy46vWx/LmpljpqLsTIz7eHlntet2/iajXMc21zk7EUAE0Jq/UQrgOLSsd7hW2FXE5+1j1hmLyUwPHDighQsXZtqgXubMHDMVVWSiu2PmzU13LUhfkzXX8p6/6VvovmQd2+yeQvE1IoAIoDXLohZAK7wQ4+0zFvk+VF/mzBwzFfXM3Ly5WVVvy5rVrqp/HLdaAgggAmjNQATQStDT+CNHjuihhx7Sj/f9WC/vf7kuvfRSHT9+XJ1m5/LOWMyMe1Fz535RV1+9W5/85J+mopT32Kkqb1KImYq85KqJKzs/rL0sc1bb2lbi60cAAUQArVmLAFoJehafiN+GGzZo15d3acn3l2j+4fl6fu7z2n76Q/rBsRf1wtw3qbf36ROfl/rUp/5UPT09Ez3IO2MxNe6YpE2SnpK0SHPmfEOrVl2kT3ziRnV1dbWlNXlmbnS0Xy996fd05ZXn6hOf+EDHWM+GgeY4JpA3Nx03I1N1Zc5qZ2oYhYMggAAigNZERgCtBD2KT+TvPVe8R8seXKbX/vy1M1q2S4/rI9qufbpH0jbNnz+sd7/78hPfGU3kLO+MxdS42yVdLGn5xPHnzv2a3ve+b2p4eF1HWokEvv/9t+lLX3pSP/1p8gks91876NgICnhHIG9uVt2Rus1aVs2L46cngAAigOmzpXlJBNBK0KP4W667RWffdXZT+Rtv5qN6XDfpaT2nmyWt1ty5/0Xve9+/nZCzvDMWp+KSmb+1kpp9sH610nwNgB9MjxLKo6bkzc2qu8B+06pHINzjI4AIoDW7EcA2BOv0tGEy+3fVBVfp6l1Xd8yJP9HdekT3ShqWtFIDAx+dkLO8ApbE3XXXa3T48Pck3TijDf39G7Vz50r19fW1bF8dl/k6wqaAMwJ5c9NZA1pUlOY6wX7TokchvvoRQATQmvUIYBOCdXvaMOnCtm3b9OAVD+qyw5d1zIkva7s+fmKJ9gsn9uv1939iQs7yzlicXLrdqM2b/1VHjvz9jDYMDKzRyMimtq+GqesyX0fgFHBCIG9uOjl4INeJolhQb/kEEEAE0Jp1CGATgr7ONLQb7C98/gv64dt/qAt0QceceESP6AaN6udKHgBZp2ZylnfG4rrrbtXdd/+aDh++fKIdPT3btGrVjo57AOu6zNcROAWcEsibm04bEckXhVwzoz53BBBABNCaTQjgNIJ1XYbMNgP4VX1cz0i6Sz09D6aSs7SJZp2lqaN8p2VDuXAI1PU6Ec4I0BMEEAG0ngUI4DSCdV2GzLIH8MY5t2jPwuR1MPs0OLh44ilgazJNjs87S2MVSJd9oC4ItCJQ1+sEIxoOAQQQAbRmMwKYaQaw8z4264BY4tM8Bfz47Me155o9WnXTKi1YsCDT59osbcsam1cgsx6H8hDIQ4DtCnmouYlJ89CNmyMVX4ulLwggAmjNUASwCcG6LUOOX0R6e3t1zW9f0/I9gIn8bb9su+65/x7NmTPHmjvEQyBqAnW7TtR9sOr4cF4r5i76ggAigNZzGgFsQrAuy5DNLiJXXPFqLdBhPfaVx3TeE+dNfAlk1zm7dP6K87X+9vXIn/WsIR4CkupynXAxWM0+LVn2TWRIwu2iLwggAmg9txHANgR9X4ZsdxHZuPFP9PDDD098C/iSSy5B/KxnC/EQaELA9+uEZdBafVry0XMe1XlvOk83Dd1UynUlpIduXPUFAUQALed2EosAWglWFO/qIlJR8zksBCDgOYFOn5Ysc0tJSA/duOoLAogAWi8hXgqgZWOsFUhd4l1dROrSX9oJAQiUSyDtQ2VPX/u0bv7L5NOSxf2F9NCNq74ggAig9YzzSgBdbIy1AqlLvKuLSF36SzshAIHyCGR5rdTd59+te791b+FLwS72zZVHsP2RXPQFAUQArfnslQC6OCmsQOoUD686jRZthUB9CGR5sfz2udu1fOtyLVu2rNAOhvTQjYu+IIAIoPWE80YA2dOWfShdXESyH5UICECgjgSybK3J+mnJsz9/tt76B28tBUtID91Y+oIAIoDWE84bAWRPW/6htFxE8h+VSAhAoA4E8myt8XEGsA6sy2wjAogAWvPNGwFkT5t1KImHAAQgMJNAnq0iWfcA3jdyn2bPng3+EgkggAigNd28EcCkI3kuVFYAxPtHIMtSlX+tp0UQyEegiLy3bK3x6SngfETDjkIAEUBrhnslgOxpsw7nyfgifkjctKx9LXmWqspoF8eAQJEEisx7y9Yan94DWCT/utaNACKA1tz1SgDHO8OetnzDWuQPSb4WZYtiBjgbL0qHQaDIvLdurTnxJZB1G/TYl/m0pG/ZhgAigNac9FIArZ2KNb7IH5KimVqWqopuG/VDoCgCM57ThAAADt9JREFUZeS9i+tCIoJ8WrKoLMhXLwKIAObLnFNRCKCVoCfxZfyQFNlVy1JVke2ibggUSaCMvGdrTZEjWF3dCCACaM0+BNBK0JP4Mn5IiuyqdamqyLZRNwSKIlBm3rO1pqhRrKZeBBABtGYeAmgl6El8mT8kRXXZxVJVUW2jXggURYC8L4ps2PUigAigNcMRQCtBj+Lr/kPCUpVHyURTSiNA3peGOqgDIYAIoDWhEUArQY/iW/2QbNiwRs8995wWLlyo7u7uli325fUxLFV5lFQRN6Xs84G8jzjZcnQdAUQAc6TNlBAE0ErQw/jxH5L58+dr/fo7tGXLUxodXaTe3j0aHFysoaG16urqmmh53V8f43oIyv7hd91+6rMR4Hyw8SO6HAIIIAJozTQE0ErQ4/i0S8Jpy3ncVSdN44ffCcbaV8L5UPshjKIDCCACaE10BNBK0NP4tK+FSVvO0246bRY//E5x1rIyzodaDluUjUYAEUBr4iOAVoKexqd9LUzacp5201mz+OF3hrLWFXE+1Hr4omo8AogAWhMeAbQS9DQ+7Wth0pbztJvOmsUPvzOUta6I86HWwxdV4xFABNCa8AiglaDH8WmXNNOW87ir5qbxw29GGEwFWc4HHhgKZthr1xEEEAG0Ji0CaCXocXza94ulLedxV500LcsPv5MDUomXBNKcDzww5OXQRdUoBBABtCY8AmglWIP4tO8XS8rt379fx48fV39/f9t3Btag25mbmOaHP3OlBNSWQLvzhpuF2g5rMA1HABFAazIjgFaCgcQzo3FqINMKcyBDTzcyEvDpgSGWoDMOXkDFEUAE0JrOCKCVYCDxzGgEMpB0o3ACPjwwxA1b4cNc2gHySjwCiABakxQBtBIMIN6nGY0AcNKFwAn48MAQN2z1TzKrxCOACKD1LEAArQQDiPdhRiMAjHQhIgJVChg3bGEkmjWHEEAE0HomIIBWggHE+zCjEQBGuhARgSofGOKGrf6J5kLiEUAE0HomIIBWgoHEW+9GA8FANyCQiUAVDwxxw5ZpiLws7ELiEUAE0JrcCKCVYCDxVc5oBIKQbkCgNALcsJWGupADuZB4BBABtCYnAmglGFh8FTMagSGkOxAonAA3bIUjLvwAVolHABFAa5IigFaCxEMAAhCoiAA3bBWBd3BYq8QjgAigNQ0RQCvBgOLzvo8qIAR0BQIQgECpBPJKPAKIAFoTFQG0Egwg3vo+qgAQ0AUIQAACtSKAACKA1oRFAK0EA4i37kUJAAFdgAAEIFArAgggAmhNWATQSrDm8S7eR1VzBDQfAqkJsE0iNSoKFkwAAUQArSmGAFoJ1jzexfuoao6A5kOgIwG2SXRERIGSCSCACKA15RBAK8Gax7t4H1XNEdB8CHQkwDaJjogoUDIBBBABtKYcAmglGEA8P24BDCJdKIwA2yQKQ0vFBgIIIAJoSJ8ToQiglWAA8db3UQWAgC5AoCUBtkmQHD4SQAARQGteIoBWggHF530fVUAI6AoEZhBgmwRJ4SMBBBABtOYlAmglSDwEIBA8AbZJBD/EtesgAogAWpMWAbQSJB4CEAiaQDID+Mwzz+i22+7T/ffv1djYIs2bt1eDg4s1NLRWXV1dQfefzvlJAAFEAK2ZiQBaCRIPAQgESaDZq1+uuOJV+sAHVurlL3+5uru7g+w3naoHAQQQAbRmKgJoJUg8BCAQJAGWfYMc1mA6hQAigNZkRgCtBImHAASCI8CrX4Ib0uA6hAAigNakRgCtBImHAASCI8CrX4Ib0uA6hAAigNakRgCtBImHAASCI8CrX4Ib0uA6hAAigNakRgCtBImHAASCJMAewCCHNZhOIYAIoDWZEUArQeIhAIEgCfCFnCCHNZhOIYAIoDWZEUArQeIhAIGgCfCFnKCHt7adQwARQGvyIoBWgsRDAAIQgAAESiaAACKA1pRDAK0EiYcABCAAAQiUTAABRACtKYcAWgkSDwEIQAACECiZAAKIAFpTDgG0EiQeAhCAAAQgUDIBBBABtKYcAmglSDwEIAABCECgZAIIIAJoTTkE0EqQeAhAAAIQgEDJBBBABNCacgiglSDxEIAABCAAgZIJIIAIoDXlEEArQeIhAAEIQAACJRNAABFAa8ohgFaCxJdCIHkZ74EDB7Rw4UJ1d3eXckwOAgEIQMBXAgggAmjNTQTQSpD4Qgmc+hzXUxodXaTe3j0aHFysoaG16urqKvTYVA4BCEDAVwIIIAJozU0E0EqQ+EIJXH/97dq8+WIdOrR84jg9Pdu0atUODQ+vK/TYVA4BCEDAVwIIIAJozU0E0EqQ+MIIJMu+S5eu1e7dd8w4xsDAao2MDLMcXBh9KoYABHwmgADGJ4AXSLpV0q9IeqWk/yzpa9OSdL6kOyUNSjomaYuk1ZIONklmBNDnMzzytu3bt08XXXSf9u+/cQaJ/v6N2rlzpfr6+iKnRPchAIEYCSCA8Qng+ZIulfSvknZIemMTAUyEb46k39dJPv9b0guS/isCGONlYmqft27dqhUrVtQCRPsZwDUaGdnEDGCHkazTeNciKT1vJOPt+QA5bB4CGJ8ATk6fZHZv+gzgYkk/kJTMFP6/RuHkf/+bpOTf9k7LP2YAHZ6Qdajq+uuv1/DwcB2aeqKN7AG0DVXdxtvWW6IZ73hyAAFEAKcL4G9L+jtJL512GhyS9DuSvoQAxnOBaNbTuv1AnHoK+EmNjS3SvHl7eQo4QwrXbbwzdI2iTQgw3vGkBQIYjgB+VtJKSccby7bTs3ibpMun/Z/NZgDfKel2Sf3Tyu5PJlMk/a9mArhnzx719iaTgfyFTmD9+vXasGFD7bqZLAc/99xzetnLXsayb4bRq+t4Z+giRScRYLzjSYdEABctWpR0+ExJo/H0/FRPkz1uIfwlM3Y9bTpyRNJYCgHMOgP46ibLwiHwpA8QgAAEIACBGAicLenpGDo6vY+hCGCesWu1B/D7ki6ctAcw+d87Jf2HJrKX8HtVE7nM0x5iIAABCEAAAhAoj8A8ST9srB6Wd1RPjhSjAM5tLBP/VNKbJSXLwz+XdLQxJl9sPAX8jka5z0v6iaT/5smY0QwIQAACEIAABCBgIhCbACazeMkMX7JXcPLfn0v6SOP/SN4D+GlJVzbKJUKYvAcwyj0CpuwiGAIQgAAEIAABLwnEJoBeDgKNggAEIAABCEAAAmUSQADz0Xb9RZF8rSCqSgLLJD3Q2B6QtCM5l55rvC+yynZxbHcEkpWBP5SUPOL/TUnXSvq2u+qpyRMCN0v6kKRkW1ByHicrRMnKT7INiL/6E0g+6pCcu8l+/jMaW7ySZwDG/5Lf8+R7ma+T9Lykv5aUnPvB/yGA+YbY9RdF8rWCqCoJJAKYfEZwdqwbiKuEX8Kx1zW2fiT7hL8nKZGEqyQNNEShhCZwiJIIJGP7W5IuK+l4HKZcAskXvxY03u/7N9MEMBHC3ZLuaWwDS87vf5Q0JOmT5Taz/KMhgHbmLr4oYm8FNZRNYFwAuyc9QFR2GzhecQSekJR88iXZD5z8zWo8LZi8D/RzxR2WmisggABWAL2CQ45fs5NPvY7PACbvD97YeJvH+P/3x5LWSDq3gjaWekgE0I67mQBmfZ+gvRXUUDaB8YtJ8nnA5MnyEUl/IenBshvC8ZwTSJZ8k6Wg10v6l0m1b22M8w3Oj0iFVRJIBDAZ02QJOPnvYUk3NT4LWmW7OLZbAs0EMLnJW9J4I8j40ZLz/p8bL4hO3gAS7B8COHVoq/qiSLAJVsOOpc2BV0o6q7En7CWSrpH0UUm/LulbNew3TT5FIHkx7FONH4bHJoFJPhOZvA3gvcAKisAvNt7luqfxFajka1C/0fgmfCKE/IVBoJkAJkvCp0t626QuJlu8kr2+yWdCkncEBvuHAE4d2qq+KBJsgtWwY3lyYLybyZ7AZPbgz2rYb5p8igAzgHFnQ7Kt46Ckt0j6p7hRBNV7ZgCnDScCaM9vF18UsbeCGnwg8FVJX28sH/nQHtqQn0CzPYD7JL2fPYD5odYkclwAk608X6lJm2lmZwLNBDB5sOu2aXsAr2s8AMYewM5Moy3BF0WiHfoTHX9T4+mxJxvfob5a0sclXdr4dGDcdOrf+2RPWPIC+EFJiQx+WNI7JZ3HU8D1H9xpPfjdxhP9ByQlWzuSJeDflLRU0gvB9Ta+DnU1nvxNBDB5wjf5/Fvy5a8XG8u/yTaP5CngjzUe/NgiaRNPAceXKGl7zBdF0pIKt1yyzPtHjdcL/KzxcEDyNZnt4XY5up7dIikR++QH4xu8BzDY8f+Hxp6/ZC9Y8i7P5EGu5L2AifjzV38CyZO+yd7u8S+Ajb/r8Q2Nsf4lSXc13gOYLP1vbjzQV/+ed+gBS8DBDzEdhAAEIAABCEAAAlMJIIBkBAQgAAEIQAACEIiMAAIY2YDTXQhAAAIQgAAEIIAAkgMQgAAEIAABCEAgMgIIYGQDTnchAAEIQAACEIAAAkgOQAACEIAABCAAgcgIIICRDTjdhQAEIAABCEAAAgggOQABCEAAAhCAAAQiI4AARjbgdBcCEIAABCAAAQgggOQABCAAAQhAAAIQiIwAAhjZgNNdCEAAAhCAAAQggACSAxCAAAQgAAEIQCAyAghgZANOdyEAAQhAAAIQgAACSA5AAAIQgAAEIACByAgggJENON2FAAQgAAEIQAACCCA5AAEIQAACEIAABCIjgABGNuB0FwIQgAAEIAABCCCA5AAEIAABCEAAAhCIjAACGNmA010IQAACEIAABCCAAJIDEIAABCAAAQhAIDICCGBkA053IQABCEAAAhCAAAJIDkAAAhCAAAQgAIHICCCAkQ043YUABCAAAQhAAAIIIDkAAQhAAAIQgAAEIiOAAEY24HQXAhCAAAQgAAEIIIDkAAQgAAEIQAACEIiMAAIY2YDTXQhAAAIQgAAEIIAAkgMQgAAEIAABCEAgMgIIYGQDTnchAAEIQAACEIAAAkgOQAACEIAABCAAgcgIIICRDTjdhQAEIAABCEAAAgggOQABCEAAAhCAAAQiI4AARjbgdBcCEIAABCAAAQgggOQABCAAAQhAAAIQiIzA/wd9aY+SxzK8KwAAAABJRU5ErkJggg==\">"
      ],
      "text/plain": [
       "<IPython.core.display.HTML object>"
      ]
     },
     "metadata": {},
     "output_type": "display_data"
    },
    {
     "data": {
      "text/plain": [
       "[<matplotlib.lines.Line2D at 0x7f0cbc1e8f10>]"
      ]
     },
     "execution_count": 219,
     "metadata": {},
     "output_type": "execute_result"
    }
   ],
   "source": [
    "num_centers = 4\n",
    "centers = initialize_centers_plus(df, num_centers)\n",
    "print centers \n",
    "\n",
    "plt.figure()\n",
    "plt.axis([-10, 10, -10, 10])\n",
    "plot(x_sample, y_sample, 'bo')\n",
    "centers = np.asarray(centers)\n",
    "plt.plot(centers[:,0], centers[:,1], 'mo', markersize = 10)"
   ]
  },
  {
   "cell_type": "markdown",
   "metadata": {},
   "source": [
    "## 2b. Main Loop"
   ]
  },
  {
   "cell_type": "markdown",
   "metadata": {},
   "source": [
    "Now, implement the main loop in K-means clustering. Again, we've provided you the signatures of some functions which may be useful."
   ]
  },
  {
   "cell_type": "markdown",
   "metadata": {},
   "source": [
    "Note: The statistics of a new center \"mean\" is given by:\n",
    "$$\n",
    "\\bar{x}_k = \\frac{1}{n_k} \\sum_{x \\in \\text{Cluster}[k]}^{n_i} x\n",
    "$$\n",
    "So the only statistics we require are $n_k$ the number of elements in cluster $k$ and $\\sum_{x \\in \\text{Cluster}[k]}^{n_i} x$ the sum of the elements in cluster $k$."
   ]
  },
  {
   "cell_type": "markdown",
   "metadata": {},
   "source": [
    "### Begin Student Code Here"
   ]
  },
  {
   "cell_type": "code",
   "execution_count": null,
   "metadata": {
    "collapsed": false
   },
   "outputs": [],
   "source": [
    "def k_means(points,\n",
    "            k = num_centers,\n",
    "            initial_centers = None,\n",
    "            max_iterations = 100,\n",
    "            initializer = initialize_centers_plus,\n",
    "            epsilon = 0.001):\n",
    "    \"\"\"\n",
    "    Executes the K-means algorithm on a collection of points.\n",
    "    \n",
    "    Inputs:\n",
    "    points: a collection of d-dimensional points (x_1, x_2, ..., x_d).\n",
    "    k: the number of cluster centers wanted\n",
    "    initial_centers: if supplied, skips the initialization phase and uses points from this value\n",
    "    max_iterations: the maximum number of main-loop iterations to run\n",
    "    initializer: a function which selects initial centers (if none supplied)\n",
    "    epsilon: the threshhold at which convergence is reached and the algorithm halted\n",
    "    \n",
    "    Output:\n",
    "    A list of k candidate cluster centers\n",
    "    \"\"\"\n",
    "    \n",
    "    # speeds up rerunning\n",
    "    points.cache()\n",
    "    \n",
    "    old_centers = None\n",
    "    new_centers = None\n",
    "    if initial_centers: # we were provided initial centers to use\n",
    "        new_centers = initial_centers\n",
    "    else: # we need to initialize the centers ourselves\n",
    "        # TODO\n",
    "\n",
    "        \n",
    "    iteration = 0\n",
    "    while not has_converged(old_centers, new_centers, epsilon) and iteration < max_iterations:\n",
    "        # update centers\n",
    "        # TODO\n",
    "        \n",
    "        \n",
    "        iteration += 1\n",
    "        \n",
    "    return new_centers"
   ]
  },
  {
   "cell_type": "code",
   "execution_count": null,
   "metadata": {
    "collapsed": true
   },
   "outputs": [],
   "source": [
    "def compute_new_center_statistics(iterator, old_centers):\n",
    "    \"\"\"\n",
    "    Given an iterator over points and a list of old centers, compute the statistics for the new center.\n",
    "    \n",
    "    Input:\n",
    "    iterator: an iterator over points\n",
    "    old_centers: a list of centers (points) from the previous iteration\n",
    "    \n",
    "    Output:\n",
    "    A 2-tuple (counts, sums) consisting of:\n",
    "     - counts: an array of length k containing the count of points in each new center\n",
    "     - sums: a k by d array consisting of sum of the points assigned to each center\n",
    "     \n",
    "    Note that from the tuple you could compute the ith new center:\n",
    "      sums[i] / counts[i]\n",
    "    \"\"\"\n",
    "    # Get the shape of the old centers\n",
    "    # TODO\n",
    "    \n",
    "    # Initialize the sums\n",
    "    # TODO\n",
    "    counts = None\n",
    "    sums = None\n",
    "    \n",
    "    # Loop over the data and compute the new assignments\n",
    "    # TODO\n",
    "    for _ in []:\n",
    "        # Compute the nearest center (you just implemented this!)\n",
    "        # TODO\n",
    "        \n",
    "        # Update the sums and counts\n",
    "        # TODO\n",
    "        \n",
    "        pass\n",
    "\n",
    "\n",
    "        \n",
    "    yield (counts, sums)"
   ]
  },
  {
   "cell_type": "code",
   "execution_count": null,
   "metadata": {
    "collapsed": true
   },
   "outputs": [],
   "source": [
    "def add_statistics(stats_1, stats_2):\n",
    "    \"\"\"\n",
    "    Given statistics from two partitions, add those statistics.\n",
    "    \"\"\"\n",
    "    stats = (None, None)\n",
    "    # Compute stats_1 + stats_2\n",
    "    # TODO\n",
    "    \n",
    "    return stats"
   ]
  },
  {
   "cell_type": "markdown",
   "metadata": {},
   "source": [
    "### End Student Code Here"
   ]
  },
  {
   "cell_type": "code",
   "execution_count": null,
   "metadata": {
    "collapsed": false
   },
   "outputs": [],
   "source": [
    "def has_converged(old_centers, new_centers, epsilon):\n",
    "    \"\"\"\n",
    "    Test if the distance between the centers is less than epsilon.\n",
    "    \"\"\"\n",
    "    return (old_centers) and (new_centers) and \\\n",
    "        np.linalg.norm(np.asarray(old_centers) - np.asarray(new_centers), ord=2) < epsilon"
   ]
  },
  {
   "cell_type": "markdown",
   "metadata": {},
   "source": [
    "## Plotting Clusters"
   ]
  },
  {
   "cell_type": "markdown",
   "metadata": {},
   "source": [
    "How does your code perform? Are these good clusters?"
   ]
  },
  {
   "cell_type": "code",
   "execution_count": null,
   "metadata": {
    "collapsed": false
   },
   "outputs": [],
   "source": [
    "colors = ['ro', 'bo', 'go', 'yo'] # for now just use 4 colors\n",
    "\n",
    "def plot_clusters(centers, plt):\n",
    "    for i in range(num_centers):\n",
    "        cluster = df.rdd.filter(lambda x: find_nearest_center(centers, x) == i)\n",
    "        cluster_sample = np.asarray(cluster.sample(False, 0.2).collect())\n",
    "        plt.plot(cluster_sample[:,0], cluster_sample[:,1], colors[i])\n",
    "    "
   ]
  },
  {
   "cell_type": "code",
   "execution_count": null,
   "metadata": {
    "collapsed": false
   },
   "outputs": [],
   "source": [
    "plt.figure()\n",
    "plt.axis([-10, 10, -10, 10])\n",
    "\n",
    "centers = k_means(df, num_centers)\n",
    "plot_clusters(centers, plt)\n",
    "\n",
    "centers = np.asarray(centers)\n",
    "plt.plot(centers[:,0], centers[:,1], 'mo', markersize = 10)\n"
   ]
  },
  {
   "cell_type": "markdown",
   "metadata": {},
   "source": [
    "# 3. Geographical Contribution Clustering"
   ]
  },
  {
   "cell_type": "markdown",
   "metadata": {},
   "source": [
    "Let's put everything together! First we'll load the required data files."
   ]
  },
  {
   "cell_type": "code",
   "execution_count": null,
   "metadata": {
    "collapsed": false
   },
   "outputs": [],
   "source": [
    "zip_codes = sql.read.parquet(\"zip_codes\")"
   ]
  },
  {
   "cell_type": "markdown",
   "metadata": {},
   "source": [
    "Now we'll grab the relevant data we need. We'll join the table of front runners we collected earlier with their contributors' zip codes to get latitudinal and longitudinal data..."
   ]
  },
  {
   "cell_type": "code",
   "execution_count": null,
   "metadata": {
    "collapsed": false
   },
   "outputs": [],
   "source": [
    "contrib_zips = \\\n",
    "    front_runners.join(indv, front_runners.CAND_PCC == indv.CMTE_ID) \\\n",
    "    .select(\"CAND_NAME\", \"CAND_ID\", \"ZIP_CODE\")\n",
    "contrib_zips = contrib_zips.withColumn(\"SHORT_ZIP\", contrib_zips.ZIP_CODE.substr(0,5))"
   ]
  },
  {
   "cell_type": "code",
   "execution_count": null,
   "metadata": {
    "collapsed": false
   },
   "outputs": [],
   "source": [
    "contrib_locs = \\\n",
    "    contrib_zips.join(zip_codes, contrib_zips.SHORT_ZIP == zip_codes.zip) \\\n",
    "    .select(\"CAND_NAME\", \"latitude\", \"longitude\").cache()"
   ]
  },
  {
   "cell_type": "code",
   "execution_count": null,
   "metadata": {
    "collapsed": true
   },
   "outputs": [],
   "source": [
    "candidate_names = [x[0] for x in contrib_locs.select(\"CAND_NAME\").distinct().collect()]\n",
    "candidate_names"
   ]
  },
  {
   "cell_type": "code",
   "execution_count": null,
   "metadata": {
    "collapsed": true
   },
   "outputs": [],
   "source": [
    "X = {}\n",
    "for candidate in candidate_names:\n",
    "    X[candidate] = contrib_locs.where(contrib_locs.CAND_NAME == candidate) \\\n",
    "        .select(\"latitude\", \"longitude\") \\\n",
    "        .map(lambda r: np.array([x for x in r])) \\\n",
    "        .coalesce(sc.defaultParallelism).cache()"
   ]
  },
  {
   "cell_type": "markdown",
   "metadata": {},
   "source": [
    "...which will allow us to plot these locations."
   ]
  },
  {
   "cell_type": "code",
   "execution_count": null,
   "metadata": {
    "collapsed": true
   },
   "outputs": [],
   "source": [
    "maps = {}\n",
    "for candidate in X:\n",
    "    maps[candidate] = folium.Map(location=[40, -100],\n",
    "           tiles='Stamen Toner',\n",
    "           zoom_start=4)\n",
    "    locs = X[candidate].sample(False, 0.01).collect()\n",
    "    for l in locs:\n",
    "        folium.Marker(l).add_to(maps[candidate])"
   ]
  },
  {
   "cell_type": "code",
   "execution_count": null,
   "metadata": {
    "collapsed": true
   },
   "outputs": [],
   "source": [
    "maps[u'CRUZ, RAFAEL EDWARD \"TED\"']"
   ]
  },
  {
   "cell_type": "markdown",
   "metadata": {},
   "source": [
    "We can run k-means for each candidate. What's a good value for $k$? Run the K-means algorithm you developed earlier with different values of $k$ to determine the best one."
   ]
  },
  {
   "cell_type": "markdown",
   "metadata": {},
   "source": [
    "### Begin Student Code Here"
   ]
  },
  {
   "cell_type": "code",
   "execution_count": null,
   "metadata": {
    "collapsed": true
   },
   "outputs": [],
   "source": [
    "def compute_errors(candidate_locations, k_range):\n",
    "    errors = {}\n",
    "    for c in candidate_locations:\n",
    "        errors[c] = []\n",
    "        for k in k_range:\n",
    "            # For each candidate, test multiple values of k\n",
    "            # TODO\n",
    "            \n",
    "            pass\n",
    "    return errors"
   ]
  },
  {
   "cell_type": "code",
   "execution_count": null,
   "metadata": {
    "collapsed": false
   },
   "outputs": [],
   "source": [
    "plt.figure()\n",
    "plt.axis([0, 30, 0, 20])\n",
    "k_range = range(0, 32, 2)\n",
    "errors = compute_errors(X, k_range)\n",
    "for c in errors:\n",
    "    plot(k_range, errors[c])"
   ]
  },
  {
   "cell_type": "markdown",
   "metadata": {
    "collapsed": true
   },
   "source": [
    "Now that you've found a suitable value for k, run K-means to compute the desired clusters."
   ]
  },
  {
   "cell_type": "code",
   "execution_count": null,
   "metadata": {
    "collapsed": false
   },
   "outputs": [],
   "source": [
    "centers = {}\n",
    "k = None # TODO enter the value you found here\n",
    "for c in X:\n",
    "    # Find the cluster centers for each candidate\n",
    "    # TODO\n",
    "    pass"
   ]
  },
  {
   "cell_type": "markdown",
   "metadata": {},
   "source": [
    "### End Student Code Here"
   ]
  },
  {
   "cell_type": "markdown",
   "metadata": {},
   "source": [
    "At last, we have the clusters we want. Here's a nifty visualization."
   ]
  },
  {
   "cell_type": "code",
   "execution_count": null,
   "metadata": {
    "collapsed": true
   },
   "outputs": [],
   "source": [
    "colors = dict(zip(clusters.keys(), ['blue', 'green','orange', 'red']))\n",
    "centers_map = folium.Map(location=[40, -100],\n",
    "                         zoom_start=4)\n",
    "for candidate in centers: \n",
    "    locs = centers[candidate]\n",
    "    for l in locs:\n",
    "        folium.Marker(l,\n",
    "                      popup=str(l),\n",
    "                      icon=folium.Icon(color=colors[candidate])).add_to(centers_map)\n",
    "centers_map"
   ]
  },
  {
   "cell_type": "markdown",
   "metadata": {},
   "source": [
    "Congratulations! You've successfully implemented a scalable machine learning algorithm on dataset of campaign finance contributions!"
   ]
  }
 ],
 "metadata": {
  "celltoolbar": "Raw Cell Format",
  "kernelspec": {
   "display_name": "Python 2",
   "language": "python",
   "name": "python2"
  },
  "language_info": {
   "codemirror_mode": {
    "name": "ipython",
    "version": 2
   },
   "file_extension": ".py",
   "mimetype": "text/x-python",
   "name": "python",
   "nbconvert_exporter": "python",
   "pygments_lexer": "ipython2",
   "version": "2.7.11"
  }
 },
 "nbformat": 4,
 "nbformat_minor": 0
}
