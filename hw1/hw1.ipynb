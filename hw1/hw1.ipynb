{
 "cells": [
  {
   "cell_type": "markdown",
   "metadata": {},
   "source": [
    "# HW 1: Web log data wrangling\n",
    "\n",
    "Please also refer to the HW1 [README](https://github.com/berkeley-cs186/course/tree/master/hw1) for the full assignment details.\n",
    "\n",
    "--------------------------------------------\n",
    "\n",
    "## Introduction\n",
    "\n",
    "### Jupyter Notebooks w/ iPython\n",
    "\n",
    "Jupyter Notebook is a web-based interactive computing system, which allow you to mix code and rich-text in one document. A notebook consists of a sequence of cells, which can be run using the \"Play\" button in the toolbar or by hitting Shift-Enter on the keyboard.\n",
    "\n",
    "In HW1, you will primarily use code cells with iPython code. You can find a tour and pointers to more documentation in the `Help` menu above.\n"
   ]
  },
  {
   "cell_type": "markdown",
   "metadata": {},
   "source": [
    "### The dataset\n",
    "\n",
    "Let's take a look at the data. These web logs were produced by an Apache web server. Each line represents a request to the server that originally hosted an early viral video from 2002."
   ]
  },
  {
   "cell_type": "code",
   "execution_count": 1,
   "metadata": {
    "collapsed": false
   },
   "outputs": [],
   "source": [
    "import os\n",
    "DATA_DIR = os.environ['MASTERDIR'] + '/sp16/hw1/'"
   ]
  },
  {
   "cell_type": "code",
   "execution_count": 2,
   "metadata": {
    "collapsed": false
   },
   "outputs": [
    {
     "name": "stdout",
     "output_type": "stream",
     "text": [
      "62.172.72.131 - - [02/Jan/2003:02:06:41 -0700] \"GET /random/html/riaa_hacked/ HTTP/1.0\" 200 10564 \"-\" \"Mozilla/4.0 (compatible; MSIE 5.5; Windows NT 4.0; WWP 17 August 2001)\"\n",
      "\n"
     ]
    }
   ],
   "source": [
    "with open(DATA_DIR + \"web_log_small.log\") as log_file:\n",
    "    sample_line = log_file.readline()\n",
    "\n",
    "print sample_line"
   ]
  },
  {
   "cell_type": "markdown",
   "metadata": {},
   "source": [
    "This format is called \"Combined Log Format\", and you can find a description of each of the fields [here](https://httpd.apache.org/docs/1.3/logs.html#common)."
   ]
  },
  {
   "cell_type": "markdown",
   "metadata": {},
   "source": [
    "Here's another way to view the first line of the dataset. We can run a shell command using [`! operator`](https://ipython.org/ipython-doc/3/interactive/reference.html#system-shell-access) (a feature of iPython). "
   ]
  },
  {
   "cell_type": "code",
   "execution_count": 3,
   "metadata": {
    "collapsed": false
   },
   "outputs": [
    {
     "name": "stdout",
     "output_type": "stream",
     "text": [
      "62.172.72.131 - - [02/Jan/2003:02:06:41 -0700] \"GET /random/html/riaa_hacked/ HTTP/1.0\" 200 10564 \"-\" \"Mozilla/4.0 (compatible; MSIE 5.5; Windows NT 4.0; WWP 17 August 2001)\"\r\n"
     ]
    }
   ],
   "source": [
    "!head -1 {DATA_DIR}web_log_small.log"
   ]
  },
  {
   "cell_type": "markdown",
   "metadata": {
    "collapsed": true
   },
   "source": [
    "-----------\n",
    "\n",
    "## Your Assignment\n",
    "\n",
    "Fill in the `process_logs` function below to complete the specification in the README. You can add any helper functions you need. You may use any of Python 2's standard libraries available on the instructional machines. You cannot use (and shouldn't need) any external libraries.\n",
    "\n",
    "Remember, you need to ensure that your code will scale to datasets that are bigger than memory -- no matter how large or skewed the dataset or how much memory is on your test machine.  Avoid keeping data structures of unbounded size in memory, since it **won't** scale, e.g.: \n",
    "\n",
    "- having a list of every line in the dataset\n",
    "- having a dictionary with an key for every IP address\n",
    "\n",
    "Finally, to ensure proper grading, please make sure all of your log processing code (including `import` statements) is between the **BEGIN/END STUDENT CODE** cells. Do not modify or remove either of these cells."
   ]
  },
  {
   "cell_type": "markdown",
   "metadata": {},
   "source": [
    "### * BEGIN STUDENT CODE *"
   ]
  },
  {
   "cell_type": "code",
   "execution_count": 4,
   "metadata": {
    "collapsed": false
   },
   "outputs": [],
   "source": [
    "import apachetime\n",
    "import time\n",
    "import csv\n",
    "\n",
    "def apache_ts_to_unixtime(ts):\n",
    "    \"\"\"\n",
    "    @param ts - a Apache timestamp string, e.g. '[02/Jan/2003:02:06:41 -0700]'\n",
    "    @returns int - a Unix timestamp in seconds\n",
    "    \"\"\"\n",
    "    dt = apachetime.apachetime(ts)\n",
    "    unixtime = time.mktime(dt.timetuple())\n",
    "    return int(unixtime)"
   ]
  },
  {
   "cell_type": "code",
   "execution_count": 5,
   "metadata": {
    "collapsed": false
   },
   "outputs": [],
   "source": [
    "def process_logs(dataset_iter):\n",
    "    \"\"\"\n",
    "    Processes the input stream, and outputs the CSV files described in the README.    \n",
    "    This is the main entry point for your assignment.\n",
    "    \n",
    "    @param dataset_iter - an iterator of Apache log lines.\n",
    "    \"\"\"\n",
    "    # FIX ME\n",
    "#     with open(\"hits.csv\", \"w+\") as hits_file:        \n",
    "#         for i, line in enumerate(dataset_iter):            \n",
    "#             if i % 1e5 == 0:\n",
    "#                 print i,\n",
    "        \n",
    "#         print \"Done.\"\n",
    "\n",
    "    \n",
    "    print \"starting!\"\n",
    "    with open(\"hits.csv\", \"w+\") as hits_file:\n",
    "        hitswriter = csv.writer(hits_file, delimiter = ',', lineterminator='\\n')\n",
    "        hitswriter.writerow([\"ip\", \"timestamp\"])\n",
    "\n",
    "        for i, line in enumerate(dataset_iter):\n",
    "            # echo = write args to stdout\n",
    "            # ! indicates a unix command \n",
    "            # $ is like extract value of variable, I think\n",
    "            # unix just goes awk '{print $1}' for the first thing \n",
    "            # ip = !echo $line | awk '{{print $$1}}' \n",
    "            split_line = line.split(\" \")\n",
    "            ip = split_line[0]\n",
    "            # ap_timestamp = !echo $line | awk '{{print $$4, $$5}}'\n",
    "            ap_timestamp = split_line[3] + \" \" + split_line[4]\n",
    "            timestamp = apache_ts_to_unixtime(ap_timestamp)\n",
    "\n",
    "            hitswriter.writerow([ip, timestamp])\n",
    "            \n",
    "    hits_file.close()\n",
    "              \n",
    "        \n",
    "        \n",
    "        \n",
    "    # sessions.csv\n",
    "    tmp_sessions = !mktemp \n",
    "    tmp_sessions = tmp_sessions[0] # tmp_sessions ^ is an \"ipython SList\"\n",
    "    # !sort -s hits.csv > {tmp_sessions}\n",
    "    !tail -n +2 hits.csv | sort -s > {tmp_sessions}   # Don't want sort header\n",
    "    # Logs already fairly time sorted, except for occassional 1 sec off\n",
    "    # Sort by ip\n",
    "    # Actually, I don't think it's really sorted by the numerical value of the ip\n",
    "    # But it matches the ref, so okay\n",
    "    # Also, don't really need sorted ip, just rendezvous, so it's fine.\n",
    "    # {} are something about expanding a var\n",
    "    \n",
    "    with open(\"sessions.csv\", \"w+\") as sessions_file:\n",
    "        sessionswriter = csv.writer(sessions_file, delimiter = ',', lineterminator='\\n')\n",
    "        sessionswriter.writerow([\"ip\", \"session_length\", \"num_hits\"])\n",
    "        \n",
    "        # Iterate through, start calculating.\n",
    "        prev_ip, prev_time, curr_length, curr_hits = 0, -1, 0, 1\n",
    "        flag = False # Not a legit setting yet\n",
    "        wrote = False\n",
    "        sorted_f = open(tmp_sessions, \"r\")\n",
    "        for line in sorted_f:\n",
    "            #curr_ip = !line | tr ',' $'\\n' | sed -n \"1p\" \n",
    "            #curr_time = !line | tr ',' $'\\n' | sed -n \"2p\"\n",
    "            \n",
    "            split_line = line.split(\",\")\n",
    "            curr_ip = split_line[0]\n",
    "            curr_time = int(split_line[1])\n",
    "            \n",
    "            if curr_ip == prev_ip and prev_time >= 0 and abs(curr_time - prev_time) <= 1800:\n",
    "                # part of same session - update\n",
    "                curr_length = curr_length + abs(curr_time - prev_time) # weird -1 thing\n",
    "                curr_hits = curr_hits + 1\n",
    "                wrote = False\n",
    "            # Else different session - write old one if legit, and update still\n",
    "            else:\n",
    "                wrote = False\n",
    "                if flag:\n",
    "                    sessionswriter.writerow([prev_ip, curr_length, curr_hits])\n",
    "                    wrote = True\n",
    "                curr_length = 0\n",
    "                curr_hits = 1\n",
    "\n",
    "#             if curr_ip != \"ip\" and curr_time != \"timestamp\":\n",
    "#                 prev_ip = curr_ip\n",
    "#                 prev_time = curr_time\n",
    "\n",
    "            prev_ip = curr_ip\n",
    "            prev_time = curr_time\n",
    "\n",
    "            flag = True\n",
    "        # And I guess, check the last one as well\n",
    "        if not wrote:\n",
    "            # Write it\n",
    "            sessionswriter.writerow([prev_ip, curr_length, curr_hits])\n",
    "            \n",
    "    sessions_file.close()\n",
    "    \n",
    "    \n",
    "    \n",
    "    \n",
    "    \n",
    "    # session_length_plot.csv\n",
    "    # I think Varun said a dictionary is okay, because it doesn't increase linearly. \n",
    "    \n",
    "    tmp_sessions_length = !mktemp\n",
    "    tmp_sessions_length = tmp_sessions_length[0]\n",
    "    # sort by session_length - column 2\n",
    "    # !tail -n +2 sessions.csv | sort -s -k 2 > {tmp_sessions_length}\n",
    "    !tail -n +2 sessions.csv | sort -s -n -t \",\" -k2 > {tmp_sessions_length}\n",
    "        \n",
    "    with open(\"session_length_plot.csv\", \"w+\") as session_length_file:\n",
    "        lengthwriter = csv.writer(session_length_file, delimiter = ',', lineterminator='\\n')\n",
    "        lengthwriter.writerow([\"left\", \"right\", \"count\"])\n",
    "        \n",
    "        \n",
    "        \n",
    "#         # I think I might generate the first one first\n",
    "#         session_dict = {(0, 2): 0}\n",
    "#         curr_limit = 2 # Don't forget it's a soft limit!!!\n",
    "        \n",
    "        # Urgh I dunno if want to do dictionaries, because have to write in order. \n",
    "        # Maybe just do it running, like with previous one. \n",
    "        curr_left = 0\n",
    "        curr_right = 2\n",
    "        curr_count = 0\n",
    "        \n",
    "        legit = False\n",
    "        \n",
    "        # Do a similar thing to before, I guess. Need write in order\n",
    "        sorted_sessions_f = open(tmp_sessions_length, \"r\")\n",
    "        for line in sorted_sessions_f:\n",
    "            \n",
    "            split_line = line.split(\",\")\n",
    "            session_length = int(split_line[1])\n",
    "            \n",
    "            # Good bin\n",
    "            if session_length >= curr_left and session_length < curr_right:\n",
    "                curr_count += 1\n",
    "                # print \"went in good bin, session_length = \" + str(session_length)\n",
    "                \n",
    "            # Bad bin\n",
    "            else:\n",
    "                # Write old one\n",
    "                if legit and curr_count != 0:\n",
    "                    #print \"wrote\"\n",
    "                    lengthwriter.writerow([curr_left, curr_right, curr_count])\n",
    "                \n",
    "                # And then generate new one - for loop until it's in range, I guess\n",
    "                while not (session_length >= curr_left and session_length < curr_right):\n",
    "                    #print \"session length = \" + str(session_length)\n",
    "                    curr_left = curr_right\n",
    "                    curr_right = curr_right * 2\n",
    "                    #print curr_right\n",
    "                    \n",
    "                curr_count = 1\n",
    "                \n",
    "            legit = True\n",
    "        \n",
    "        # Don't forget check last one!\n",
    "        # I think always need to do a final write \n",
    "        # Either alone or together, need to write it\n",
    "        lengthwriter.writerow([curr_left, curr_right, curr_count])\n",
    "        \n",
    "        # And then do it as it comes\n",
    "        \n",
    "        # And don't forget to clear it out afterwards! \n",
    "        \n",
    "        \n",
    "    session_length_file.close()\n",
    "    \n",
    "            \n",
    "  \n",
    "        \n",
    "    "
   ]
  },
  {
   "cell_type": "markdown",
   "metadata": {},
   "source": [
    "### * END STUDENT CODE *\n",
    "\n",
    "------------------------\n"
   ]
  },
  {
   "cell_type": "code",
   "execution_count": 6,
   "metadata": {
    "collapsed": false,
    "scrolled": true
   },
   "outputs": [],
   "source": [
    "def process_logs_small():\n",
    "    \"\"\"\n",
    "    Runs the process_logs function with the small dataset (186 MB).\n",
    "    \"\"\"        \n",
    "    with open(DATA_DIR + \"web_log_small.log\") as log_file:\n",
    "        process_logs(log_file)"
   ]
  },
  {
   "cell_type": "code",
   "execution_count": 7,
   "metadata": {
    "collapsed": false
   },
   "outputs": [
    {
     "name": "stdout",
     "output_type": "stream",
     "text": [
      "starting!\n",
      "CPU times: user 19.6 s, sys: 696 ms, total: 20.3 s\n",
      "Wall time: 21.4 s\n"
     ]
    }
   ],
   "source": [
    "%time process_logs_small()"
   ]
  },
  {
   "cell_type": "code",
   "execution_count": 8,
   "metadata": {
    "collapsed": false
   },
   "outputs": [],
   "source": [
    "import zipfile\n",
    "\n",
    "def process_logs_large():\n",
    "    \"\"\"\n",
    "    Runs the process_logs function on the full dataset.  The code below \n",
    "    performs a streaming unzip of the compressed dataset which is (158MB). \n",
    "    This saves the 1.6GB of disk space needed to unzip this file onto disk.\n",
    "    \"\"\"\n",
    "    with zipfile.ZipFile(DATA_DIR + \"web_log_large.zip\") as z:\n",
    "        fname = z.filelist[0].filename\n",
    "        f = z.open(fname)\n",
    "        process_logs(f)\n",
    "        f.close()"
   ]
  },
  {
   "cell_type": "code",
   "execution_count": 9,
   "metadata": {
    "collapsed": false
   },
   "outputs": [
    {
     "name": "stdout",
     "output_type": "stream",
     "text": [
      "starting!\n",
      "CPU times: user 2min 14s, sys: 4.58 s, total: 2min 18s\n",
      "Wall time: 2min 30s\n"
     ]
    }
   ],
   "source": [
    "%time process_logs_large()"
   ]
  },
  {
   "cell_type": "markdown",
   "metadata": {
    "collapsed": true
   },
   "source": [
    "---------------\n",
    "\n",
    "# Testing"
   ]
  },
  {
   "cell_type": "markdown",
   "metadata": {},
   "source": [
    "As mentioned in the README, we provide reference output only for the small dataset. `diff_outputs()` produces a `.diff` files if there's a difference between your output and the referrence output.\n",
    "\n",
    "If you're unfamiliar with the format of `diff`'s output, you can read about it [here](https://en.wikipedia.org/wiki/Diff_utility#Usage).\n",
    "\n",
    "There are other diff utilities which produce colored/side-by-side output, making it easier to see differences. If you're interested, try:\n",
    "\n",
    "```\n",
    "$ vimdiff hits.csv ~cs186/sp16/hw1/ref_output_small/hits.csv\n",
    "OR\n",
    "$ git diff hits.csv ~cs186/sp16/hw1/ref_output_small/hits.csv\n",
    "```"
   ]
  },
  {
   "cell_type": "code",
   "execution_count": 10,
   "metadata": {
    "collapsed": false
   },
   "outputs": [],
   "source": [
    "import os\n",
    "\n",
    "ref_output_dir = DATA_DIR + \"ref_output_small/\"\n",
    "\n",
    "def _diff_helper(f, unordered=False):\n",
    "    \"\"\"\n",
    "    @param f (str) - filename to diff with reference output\n",
    "    @param unordered (bool) - whether the ordering of the lines matters\n",
    "    \"\"\"\n",
    "    if not os.path.isfile(f):\n",
    "        print \"FAIL - {} does not exist.\".format(f)\n",
    "        return\n",
    "    \n",
    "    if unordered:\n",
    "        tmp1 = !mktemp\n",
    "        tmp1 = tmp1[0]\n",
    "        !sort {f} > {tmp1}\n",
    "        !sort {ref_output_dir + f} | diff {tmp1} - > {f}.diff\n",
    "    else:\n",
    "        !diff {f} {ref_output_dir + f} > {f}.diff\n",
    "    \n",
    "    success = _exit_code == 0\n",
    "    if success:\n",
    "        !rm {f}.diff\n",
    "        print \"PASS - {} matched reference output.\".format(f)\n",
    "    else:\n",
    "        print \"FAIL - {} did not match reference output. See {}.diff.\".format(f, f)\n",
    "        \n",
    "\n",
    "def diff_against_reference():\n",
    "    \"\"\"\n",
    "    Compares the output files in the current directory with the reference output.\n",
    "    If there is a difference, writes a \".diff\" file, e.g. hits.csv.diff.\n",
    "    \"\"\" \n",
    "    _diff_helper(\"hits.csv\")\n",
    "    _diff_helper(\"sessions.csv\", unordered=True)\n",
    "    _diff_helper(\"session_length_plot.csv\")"
   ]
  },
  {
   "cell_type": "code",
   "execution_count": 11,
   "metadata": {
    "collapsed": false
   },
   "outputs": [
    {
     "name": "stdout",
     "output_type": "stream",
     "text": [
      "starting!\n",
      "PASS - hits.csv matched reference output.\n",
      "PASS - sessions.csv matched reference output.\n",
      "PASS - session_length_plot.csv matched reference output.\n"
     ]
    }
   ],
   "source": [
    "process_logs_small()\n",
    "diff_against_reference()"
   ]
  },
  {
   "cell_type": "markdown",
   "metadata": {},
   "source": [
    "\n",
    "### Testing Memory Usage\n",
    "\n",
    "For additional testing, we've included a script which:\n",
    " - (1) makes sure all of your log processing code is between the BEGIN/END STUDENT CODE CELLS above, so it will work with our autograder\n",
    " - (2) runs your code with a memory cap of 1MB. If you see a `MemoryError`, it's a sign your code is not doing appropriate streaming and/or divide-and-conquer!\n",
    " \n",
    "Make sure to save your notebook (`File > Save and Checkpoint`) before running the next cell."
   ]
  },
  {
   "cell_type": "code",
   "execution_count": 12,
   "metadata": {
    "collapsed": false
   },
   "outputs": [
    {
     "name": "stdout",
     "output_type": "stream",
     "text": [
      "[NbConvertApp] Converting notebook hw1.ipynb to python\n",
      "Running process_logs_large()\n",
      "starting!\n",
      "Memory Test Done.\n"
     ]
    }
   ],
   "source": [
    "!bash test_memory_usage.sh"
   ]
  }
 ],
 "metadata": {
  "kernelspec": {
   "display_name": "Python 2",
   "language": "python",
   "name": "python2"
  },
  "language_info": {
   "codemirror_mode": {
    "name": "ipython",
    "version": 2
   },
   "file_extension": ".py",
   "mimetype": "text/x-python",
   "name": "python",
   "nbconvert_exporter": "python",
   "pygments_lexer": "ipython2",
   "version": "2.7.11"
  }
 },
 "nbformat": 4,
 "nbformat_minor": 0
}
